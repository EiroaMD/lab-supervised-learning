{
 "cells": [
  {
   "cell_type": "markdown",
   "metadata": {},
   "source": [
    "# Before your start:\n",
    "- Read the README.md file\n",
    "- Comment as much as you can and use the resources in the README.md file\n",
    "- Happy learning!"
   ]
  },
  {
   "cell_type": "code",
   "execution_count": 1,
   "metadata": {
    "ExecuteTime": {
     "end_time": "2019-10-19T10:13:15.086043Z",
     "start_time": "2019-10-19T10:13:14.371841Z"
    }
   },
   "outputs": [
    {
     "data": {
      "text/html": [
       "<style>.container { width:100% !important; }</style>"
      ],
      "text/plain": [
       "<IPython.core.display.HTML object>"
      ]
     },
     "metadata": {},
     "output_type": "display_data"
    }
   ],
   "source": [
    "# Basic pandas and numpy\n",
    "import pandas as pd\n",
    "import numpy as np\n",
    " \n",
    "# Basic visualization tools\n",
    "import seaborn as sns\n",
    "import matplotlib.pyplot as plt\n",
    "%matplotlib inline\n",
    " \n",
    "# Pandas defaults\n",
    "pd.options.display.max_columns = 500\n",
    "pd.options.display.max_rows = 500\n",
    " \n",
    "# Make jupyter bigger\n",
    "from IPython.core.display import display, HTML\n",
    "display(HTML('<style>.container { width:100% !important; }</style>'))"
   ]
  },
  {
   "cell_type": "markdown",
   "metadata": {},
   "source": [
    "In this lab, we will explore a dataset that describes websites with different features and labels them either benign or malicious. We will use supervised learning algorithms to figure out what feature patterns malicious websites are likely to have and use our model to predict malicious websites.\n",
    "\n",
    "# Challenge 1 - Explore The Dataset\n",
    "\n",
    "Let's start by exploring the dataset. First load the data file:"
   ]
  },
  {
   "cell_type": "code",
   "execution_count": 2,
   "metadata": {
    "ExecuteTime": {
     "end_time": "2019-10-19T10:13:15.103556Z",
     "start_time": "2019-10-19T10:13:15.088116Z"
    }
   },
   "outputs": [],
   "source": [
    "websites = pd.read_csv('../data/website.csv')"
   ]
  },
  {
   "cell_type": "markdown",
   "metadata": {},
   "source": [
    "#### Explore the data from an bird's-eye view.\n",
    "\n",
    "You should already been very familiar with the procedures now so we won't provide the instructions step by step. Reflect on what you did in the previous labs and explore the dataset.\n",
    "\n",
    "Things you'll be looking for:\n",
    "\n",
    "* What the dataset looks like?\n",
    "* What are the data types?\n",
    "* Which columns contain the features of the websites?\n",
    "* Which column contains the feature we will predict? What is the code standing for benign vs malicious websites?\n",
    "* Do we need to transform any of the columns from categorical to ordinal values? If so what are these columns?\n",
    "\n",
    "Feel free to add additional cells for your explorations. Make sure to comment what you find out."
   ]
  },
  {
   "cell_type": "markdown",
   "metadata": {},
   "source": [
    "**What the dataset looks like?**"
   ]
  },
  {
   "cell_type": "code",
   "execution_count": 3,
   "metadata": {
    "ExecuteTime": {
     "end_time": "2019-10-19T10:13:15.124186Z",
     "start_time": "2019-10-19T10:13:15.105580Z"
    }
   },
   "outputs": [
    {
     "data": {
      "text/html": [
       "<div>\n",
       "<style scoped>\n",
       "    .dataframe tbody tr th:only-of-type {\n",
       "        vertical-align: middle;\n",
       "    }\n",
       "\n",
       "    .dataframe tbody tr th {\n",
       "        vertical-align: top;\n",
       "    }\n",
       "\n",
       "    .dataframe thead th {\n",
       "        text-align: right;\n",
       "    }\n",
       "</style>\n",
       "<table border=\"1\" class=\"dataframe\">\n",
       "  <thead>\n",
       "    <tr style=\"text-align: right;\">\n",
       "      <th></th>\n",
       "      <th>URL</th>\n",
       "      <th>URL_LENGTH</th>\n",
       "      <th>NUMBER_SPECIAL_CHARACTERS</th>\n",
       "      <th>CHARSET</th>\n",
       "      <th>SERVER</th>\n",
       "      <th>CONTENT_LENGTH</th>\n",
       "      <th>WHOIS_COUNTRY</th>\n",
       "      <th>WHOIS_STATEPRO</th>\n",
       "      <th>WHOIS_REGDATE</th>\n",
       "      <th>WHOIS_UPDATED_DATE</th>\n",
       "      <th>TCP_CONVERSATION_EXCHANGE</th>\n",
       "      <th>DIST_REMOTE_TCP_PORT</th>\n",
       "      <th>REMOTE_IPS</th>\n",
       "      <th>APP_BYTES</th>\n",
       "      <th>SOURCE_APP_PACKETS</th>\n",
       "      <th>REMOTE_APP_PACKETS</th>\n",
       "      <th>SOURCE_APP_BYTES</th>\n",
       "      <th>REMOTE_APP_BYTES</th>\n",
       "      <th>APP_PACKETS</th>\n",
       "      <th>DNS_QUERY_TIMES</th>\n",
       "      <th>Type</th>\n",
       "    </tr>\n",
       "  </thead>\n",
       "  <tbody>\n",
       "    <tr>\n",
       "      <th>0</th>\n",
       "      <td>M0_109</td>\n",
       "      <td>16</td>\n",
       "      <td>7</td>\n",
       "      <td>iso-8859-1</td>\n",
       "      <td>nginx</td>\n",
       "      <td>263.0</td>\n",
       "      <td>None</td>\n",
       "      <td>None</td>\n",
       "      <td>10/10/2015 18:21</td>\n",
       "      <td>None</td>\n",
       "      <td>7</td>\n",
       "      <td>0</td>\n",
       "      <td>2</td>\n",
       "      <td>700</td>\n",
       "      <td>9</td>\n",
       "      <td>10</td>\n",
       "      <td>1153</td>\n",
       "      <td>832</td>\n",
       "      <td>9</td>\n",
       "      <td>2.0</td>\n",
       "      <td>1</td>\n",
       "    </tr>\n",
       "    <tr>\n",
       "      <th>8</th>\n",
       "      <td>M2_17</td>\n",
       "      <td>20</td>\n",
       "      <td>5</td>\n",
       "      <td>utf-8</td>\n",
       "      <td>nginx/1.10.1</td>\n",
       "      <td>NaN</td>\n",
       "      <td>None</td>\n",
       "      <td>None</td>\n",
       "      <td>8/11/2014 7:41</td>\n",
       "      <td>None</td>\n",
       "      <td>0</td>\n",
       "      <td>0</td>\n",
       "      <td>0</td>\n",
       "      <td>0</td>\n",
       "      <td>2</td>\n",
       "      <td>3</td>\n",
       "      <td>213</td>\n",
       "      <td>146</td>\n",
       "      <td>2</td>\n",
       "      <td>2.0</td>\n",
       "      <td>1</td>\n",
       "    </tr>\n",
       "    <tr>\n",
       "      <th>9</th>\n",
       "      <td>M3_75</td>\n",
       "      <td>20</td>\n",
       "      <td>5</td>\n",
       "      <td>utf-8</td>\n",
       "      <td>nginx/1.10.1</td>\n",
       "      <td>NaN</td>\n",
       "      <td>None</td>\n",
       "      <td>None</td>\n",
       "      <td>8/11/2014 7:41</td>\n",
       "      <td>None</td>\n",
       "      <td>0</td>\n",
       "      <td>0</td>\n",
       "      <td>0</td>\n",
       "      <td>0</td>\n",
       "      <td>2</td>\n",
       "      <td>1</td>\n",
       "      <td>62</td>\n",
       "      <td>146</td>\n",
       "      <td>2</td>\n",
       "      <td>2.0</td>\n",
       "      <td>1</td>\n",
       "    </tr>\n",
       "    <tr>\n",
       "      <th>15</th>\n",
       "      <td>M0_71</td>\n",
       "      <td>21</td>\n",
       "      <td>7</td>\n",
       "      <td>ISO-8859-1</td>\n",
       "      <td>Apache/2.4.23 (Unix) OpenSSL/1.0.1e-fips mod_b...</td>\n",
       "      <td>957.0</td>\n",
       "      <td>UK</td>\n",
       "      <td>None</td>\n",
       "      <td>16/07/2000 0:00</td>\n",
       "      <td>4/07/2015 0:00</td>\n",
       "      <td>7</td>\n",
       "      <td>0</td>\n",
       "      <td>1</td>\n",
       "      <td>717</td>\n",
       "      <td>11</td>\n",
       "      <td>10</td>\n",
       "      <td>1960</td>\n",
       "      <td>1011</td>\n",
       "      <td>11</td>\n",
       "      <td>4.0</td>\n",
       "      <td>1</td>\n",
       "    </tr>\n",
       "    <tr>\n",
       "      <th>16</th>\n",
       "      <td>M0_97</td>\n",
       "      <td>21</td>\n",
       "      <td>7</td>\n",
       "      <td>iso-8859-1</td>\n",
       "      <td>nginx</td>\n",
       "      <td>686.0</td>\n",
       "      <td>RU</td>\n",
       "      <td>Novosibirskaya obl.</td>\n",
       "      <td>25/05/2013 0:00</td>\n",
       "      <td>23/05/2016 0:00</td>\n",
       "      <td>6</td>\n",
       "      <td>0</td>\n",
       "      <td>2</td>\n",
       "      <td>603</td>\n",
       "      <td>8</td>\n",
       "      <td>9</td>\n",
       "      <td>1580</td>\n",
       "      <td>745</td>\n",
       "      <td>8</td>\n",
       "      <td>2.0</td>\n",
       "      <td>1</td>\n",
       "    </tr>\n",
       "  </tbody>\n",
       "</table>\n",
       "</div>"
      ],
      "text/plain": [
       "       URL  URL_LENGTH  NUMBER_SPECIAL_CHARACTERS     CHARSET  \\\n",
       "0   M0_109          16                          7  iso-8859-1   \n",
       "8    M2_17          20                          5       utf-8   \n",
       "9    M3_75          20                          5       utf-8   \n",
       "15   M0_71          21                          7  ISO-8859-1   \n",
       "16   M0_97          21                          7  iso-8859-1   \n",
       "\n",
       "                                               SERVER  CONTENT_LENGTH  \\\n",
       "0                                               nginx           263.0   \n",
       "8                                        nginx/1.10.1             NaN   \n",
       "9                                        nginx/1.10.1             NaN   \n",
       "15  Apache/2.4.23 (Unix) OpenSSL/1.0.1e-fips mod_b...           957.0   \n",
       "16                                              nginx           686.0   \n",
       "\n",
       "   WHOIS_COUNTRY       WHOIS_STATEPRO     WHOIS_REGDATE WHOIS_UPDATED_DATE  \\\n",
       "0           None                 None  10/10/2015 18:21               None   \n",
       "8           None                 None    8/11/2014 7:41               None   \n",
       "9           None                 None    8/11/2014 7:41               None   \n",
       "15            UK                 None   16/07/2000 0:00     4/07/2015 0:00   \n",
       "16            RU  Novosibirskaya obl.   25/05/2013 0:00    23/05/2016 0:00   \n",
       "\n",
       "    TCP_CONVERSATION_EXCHANGE  DIST_REMOTE_TCP_PORT  REMOTE_IPS  APP_BYTES  \\\n",
       "0                           7                     0           2        700   \n",
       "8                           0                     0           0          0   \n",
       "9                           0                     0           0          0   \n",
       "15                          7                     0           1        717   \n",
       "16                          6                     0           2        603   \n",
       "\n",
       "    SOURCE_APP_PACKETS  REMOTE_APP_PACKETS  SOURCE_APP_BYTES  \\\n",
       "0                    9                  10              1153   \n",
       "8                    2                   3               213   \n",
       "9                    2                   1                62   \n",
       "15                  11                  10              1960   \n",
       "16                   8                   9              1580   \n",
       "\n",
       "    REMOTE_APP_BYTES  APP_PACKETS  DNS_QUERY_TIMES  Type  \n",
       "0                832            9              2.0     1  \n",
       "8                146            2              2.0     1  \n",
       "9                146            2              2.0     1  \n",
       "15              1011           11              4.0     1  \n",
       "16               745            8              2.0     1  "
      ]
     },
     "execution_count": 3,
     "metadata": {},
     "output_type": "execute_result"
    }
   ],
   "source": [
    "websites.loc[websites.Type == 1].head()"
   ]
  },
  {
   "cell_type": "markdown",
   "metadata": {},
   "source": [
    "**What are the data types?**"
   ]
  },
  {
   "cell_type": "code",
   "execution_count": 4,
   "metadata": {
    "ExecuteTime": {
     "end_time": "2019-10-19T10:13:15.134710Z",
     "start_time": "2019-10-19T10:13:15.125748Z"
    }
   },
   "outputs": [
    {
     "name": "stdout",
     "output_type": "stream",
     "text": [
      "<class 'pandas.core.frame.DataFrame'>\n",
      "RangeIndex: 1781 entries, 0 to 1780\n",
      "Data columns (total 21 columns):\n",
      "URL                          1781 non-null object\n",
      "URL_LENGTH                   1781 non-null int64\n",
      "NUMBER_SPECIAL_CHARACTERS    1781 non-null int64\n",
      "CHARSET                      1781 non-null object\n",
      "SERVER                       1780 non-null object\n",
      "CONTENT_LENGTH               969 non-null float64\n",
      "WHOIS_COUNTRY                1781 non-null object\n",
      "WHOIS_STATEPRO               1781 non-null object\n",
      "WHOIS_REGDATE                1781 non-null object\n",
      "WHOIS_UPDATED_DATE           1781 non-null object\n",
      "TCP_CONVERSATION_EXCHANGE    1781 non-null int64\n",
      "DIST_REMOTE_TCP_PORT         1781 non-null int64\n",
      "REMOTE_IPS                   1781 non-null int64\n",
      "APP_BYTES                    1781 non-null int64\n",
      "SOURCE_APP_PACKETS           1781 non-null int64\n",
      "REMOTE_APP_PACKETS           1781 non-null int64\n",
      "SOURCE_APP_BYTES             1781 non-null int64\n",
      "REMOTE_APP_BYTES             1781 non-null int64\n",
      "APP_PACKETS                  1781 non-null int64\n",
      "DNS_QUERY_TIMES              1780 non-null float64\n",
      "Type                         1781 non-null int64\n",
      "dtypes: float64(2), int64(12), object(7)\n",
      "memory usage: 292.3+ KB\n"
     ]
    }
   ],
   "source": [
    "websites.info()"
   ]
  },
  {
   "cell_type": "markdown",
   "metadata": {},
   "source": [
    "* **Numerical variables:** URL_LENGTH, NUMBER_SPECIAL_CHARACTERS, CONTENT_LENGTH, TCP_CONVERSATION_EXCHANGE, DIST_REMOTE_TCP_PORT, REMOTE_IPS, APP_BYTES, REMOTE_APP_PACKETS, SOURCE_APP_BYTES, REMOTE_APP_BYTES, APP_PACKETS, DNS_QUERY_TIMES\n",
    "* **Categorical variables:** URL, CHARSET, SERVER, WHOIS_COUNTRY, WHOIS_STATEPRO, Type\n",
    "* **Date-Time variables:** WHOIS_REGDATE, WHOIS_UPDATED_DATE"
   ]
  },
  {
   "cell_type": "markdown",
   "metadata": {},
   "source": [
    "**Which columns contain the features of the websites?**"
   ]
  },
  {
   "cell_type": "markdown",
   "metadata": {},
   "source": [
    "URL, URL_LENGTH, SERVER, CONTENT_LENGTH, WHOIS_COUNTRY, WHOIS_STATEPRO, WHOIS_REGDATE, WHOIS_UPDATED_DATE "
   ]
  },
  {
   "cell_type": "markdown",
   "metadata": {},
   "source": [
    "**Which column contains the feature we will predict? What is the code standing for benign vs malicious websites?**    "
   ]
  },
  {
   "cell_type": "markdown",
   "metadata": {},
   "source": [
    "Type. 0 is benign and 1 is malicious."
   ]
  },
  {
   "cell_type": "markdown",
   "metadata": {},
   "source": [
    "**Do we need to transform any of the columns from categorical to ordinal values? If so what are these columns?**"
   ]
  },
  {
   "cell_type": "markdown",
   "metadata": {},
   "source": [
    "I don't see any column that should be ordinal yet. I am going to explore the values to see if I can find a pattern"
   ]
  },
  {
   "cell_type": "markdown",
   "metadata": {},
   "source": [
    "Comments:\n",
    "* CHARSET: Few values. UTF-8 and utf-8 should be merged as should be ISO-8859-1, iso-8859-1 and ISO-8859\n",
    "* SERVER: A lot of different values, although many Apache, nginx and Microsoft, with different versions.\n",
    "* WHOIS_COUNTRY: merge United Kingdom, GB, UK, and [u'GB'; u'UK']. Merge RU and ru. Merge US and us. Find country code for Cyprus. Merge SE and se.\n",
    "* WHOIS_STATEPRO: Capitalize all.\n",
    "* WHOIS_REGDATE: to_datetime.\n",
    "* WHOIS_UPDATED_DATE: to_datetime."
   ]
  },
  {
   "cell_type": "code",
   "execution_count": 5,
   "metadata": {
    "ExecuteTime": {
     "end_time": "2019-10-19T10:13:15.140698Z",
     "start_time": "2019-10-19T10:13:15.136917Z"
    }
   },
   "outputs": [
    {
     "data": {
      "text/plain": [
       "'\\nThis cell is commented to avoid long file when uploaded to git.\\n'"
      ]
     },
     "execution_count": 5,
     "metadata": {},
     "output_type": "execute_result"
    }
   ],
   "source": [
    "\"\"\"\n",
    "This cell is commented to avoid long file when uploaded to git.\n",
    "\"\"\"\n",
    "# for column in websites.columns:\n",
    "    # print(column)\n",
    "    # print(websites[column].value_counts())\n",
    "    # print('...................')"
   ]
  },
  {
   "cell_type": "markdown",
   "metadata": {},
   "source": [
    "#### Next, evaluate if the columns in this dataset are strongly correlated.\n",
    "\n",
    "In the Mushroom supervised learning lab we did recently, we mentioned we are concerned if our dataset has strongly correlated columns because if it is the case we need to choose certain ML algorithms instead of others. We need to evaluate this for our dataset now.\n",
    "\n",
    "Luckily, most of the columns in this dataset are ordinal which makes things a lot easier for us. In the next cells below, evaluate the level of collinearity of the data.\n",
    "\n",
    "We provide some general directions for you to consult in order to complete this step:\n",
    "\n",
    "1. You will create a correlation matrix using the numeric columns in the dataset.\n",
    "\n",
    "1. Create a heatmap using `seaborn` to visualize which columns have high collinearity.\n",
    "\n",
    "1. Comment on which columns you might need to remove due to high collinearity."
   ]
  },
  {
   "cell_type": "code",
   "execution_count": 6,
   "metadata": {
    "ExecuteTime": {
     "end_time": "2019-10-19T10:13:15.163112Z",
     "start_time": "2019-10-19T10:13:15.143153Z"
    }
   },
   "outputs": [
    {
     "data": {
      "text/html": [
       "<div>\n",
       "<style scoped>\n",
       "    .dataframe tbody tr th:only-of-type {\n",
       "        vertical-align: middle;\n",
       "    }\n",
       "\n",
       "    .dataframe tbody tr th {\n",
       "        vertical-align: top;\n",
       "    }\n",
       "\n",
       "    .dataframe thead th {\n",
       "        text-align: right;\n",
       "    }\n",
       "</style>\n",
       "<table border=\"1\" class=\"dataframe\">\n",
       "  <thead>\n",
       "    <tr style=\"text-align: right;\">\n",
       "      <th></th>\n",
       "      <th>URL_LENGTH</th>\n",
       "      <th>NUMBER_SPECIAL_CHARACTERS</th>\n",
       "      <th>CONTENT_LENGTH</th>\n",
       "      <th>TCP_CONVERSATION_EXCHANGE</th>\n",
       "      <th>DIST_REMOTE_TCP_PORT</th>\n",
       "      <th>REMOTE_IPS</th>\n",
       "      <th>APP_BYTES</th>\n",
       "      <th>SOURCE_APP_PACKETS</th>\n",
       "      <th>REMOTE_APP_PACKETS</th>\n",
       "      <th>SOURCE_APP_BYTES</th>\n",
       "      <th>REMOTE_APP_BYTES</th>\n",
       "      <th>APP_PACKETS</th>\n",
       "      <th>DNS_QUERY_TIMES</th>\n",
       "      <th>Type</th>\n",
       "    </tr>\n",
       "  </thead>\n",
       "  <tbody>\n",
       "    <tr>\n",
       "      <th>URL_LENGTH</th>\n",
       "      <td>1.000000</td>\n",
       "      <td>0.917986</td>\n",
       "      <td>0.129745</td>\n",
       "      <td>-0.038407</td>\n",
       "      <td>-0.039839</td>\n",
       "      <td>-0.046367</td>\n",
       "      <td>-0.026446</td>\n",
       "      <td>-0.042264</td>\n",
       "      <td>-0.033779</td>\n",
       "      <td>-0.014857</td>\n",
       "      <td>-0.026686</td>\n",
       "      <td>-0.042264</td>\n",
       "      <td>-0.068582</td>\n",
       "      <td>0.162104</td>\n",
       "    </tr>\n",
       "    <tr>\n",
       "      <th>NUMBER_SPECIAL_CHARACTERS</th>\n",
       "      <td>0.917986</td>\n",
       "      <td>1.000000</td>\n",
       "      <td>0.214225</td>\n",
       "      <td>-0.037459</td>\n",
       "      <td>-0.042619</td>\n",
       "      <td>-0.047103</td>\n",
       "      <td>-0.023914</td>\n",
       "      <td>-0.040096</td>\n",
       "      <td>-0.030597</td>\n",
       "      <td>-0.014376</td>\n",
       "      <td>-0.024098</td>\n",
       "      <td>-0.040096</td>\n",
       "      <td>-0.050048</td>\n",
       "      <td>0.280897</td>\n",
       "    </tr>\n",
       "    <tr>\n",
       "      <th>CONTENT_LENGTH</th>\n",
       "      <td>0.129745</td>\n",
       "      <td>0.214225</td>\n",
       "      <td>1.000000</td>\n",
       "      <td>0.078451</td>\n",
       "      <td>-0.000381</td>\n",
       "      <td>0.004774</td>\n",
       "      <td>0.051202</td>\n",
       "      <td>0.074142</td>\n",
       "      <td>0.091077</td>\n",
       "      <td>0.100094</td>\n",
       "      <td>0.047595</td>\n",
       "      <td>0.074142</td>\n",
       "      <td>-0.045644</td>\n",
       "      <td>-0.090852</td>\n",
       "    </tr>\n",
       "    <tr>\n",
       "      <th>TCP_CONVERSATION_EXCHANGE</th>\n",
       "      <td>-0.038407</td>\n",
       "      <td>-0.037459</td>\n",
       "      <td>0.078451</td>\n",
       "      <td>1.000000</td>\n",
       "      <td>0.555188</td>\n",
       "      <td>0.331080</td>\n",
       "      <td>0.457320</td>\n",
       "      <td>0.997796</td>\n",
       "      <td>0.990848</td>\n",
       "      <td>0.865580</td>\n",
       "      <td>0.458702</td>\n",
       "      <td>0.997796</td>\n",
       "      <td>0.349832</td>\n",
       "      <td>-0.040202</td>\n",
       "    </tr>\n",
       "    <tr>\n",
       "      <th>DIST_REMOTE_TCP_PORT</th>\n",
       "      <td>-0.039839</td>\n",
       "      <td>-0.042619</td>\n",
       "      <td>-0.000381</td>\n",
       "      <td>0.555188</td>\n",
       "      <td>1.000000</td>\n",
       "      <td>0.210188</td>\n",
       "      <td>0.780238</td>\n",
       "      <td>0.558612</td>\n",
       "      <td>0.591188</td>\n",
       "      <td>0.313359</td>\n",
       "      <td>0.781212</td>\n",
       "      <td>0.558612</td>\n",
       "      <td>0.259942</td>\n",
       "      <td>-0.082925</td>\n",
       "    </tr>\n",
       "    <tr>\n",
       "      <th>REMOTE_IPS</th>\n",
       "      <td>-0.046367</td>\n",
       "      <td>-0.047103</td>\n",
       "      <td>0.004774</td>\n",
       "      <td>0.331080</td>\n",
       "      <td>0.210188</td>\n",
       "      <td>1.000000</td>\n",
       "      <td>0.023126</td>\n",
       "      <td>0.361104</td>\n",
       "      <td>0.304683</td>\n",
       "      <td>0.171651</td>\n",
       "      <td>0.025324</td>\n",
       "      <td>0.361104</td>\n",
       "      <td>0.548189</td>\n",
       "      <td>-0.078783</td>\n",
       "    </tr>\n",
       "    <tr>\n",
       "      <th>APP_BYTES</th>\n",
       "      <td>-0.026446</td>\n",
       "      <td>-0.023914</td>\n",
       "      <td>0.051202</td>\n",
       "      <td>0.457320</td>\n",
       "      <td>0.780238</td>\n",
       "      <td>0.023126</td>\n",
       "      <td>1.000000</td>\n",
       "      <td>0.445822</td>\n",
       "      <td>0.468999</td>\n",
       "      <td>0.074464</td>\n",
       "      <td>0.999992</td>\n",
       "      <td>0.445822</td>\n",
       "      <td>0.012221</td>\n",
       "      <td>-0.011262</td>\n",
       "    </tr>\n",
       "    <tr>\n",
       "      <th>SOURCE_APP_PACKETS</th>\n",
       "      <td>-0.042264</td>\n",
       "      <td>-0.040096</td>\n",
       "      <td>0.074142</td>\n",
       "      <td>0.997796</td>\n",
       "      <td>0.558612</td>\n",
       "      <td>0.361104</td>\n",
       "      <td>0.445822</td>\n",
       "      <td>1.000000</td>\n",
       "      <td>0.989285</td>\n",
       "      <td>0.857495</td>\n",
       "      <td>0.447448</td>\n",
       "      <td>1.000000</td>\n",
       "      <td>0.410843</td>\n",
       "      <td>-0.034414</td>\n",
       "    </tr>\n",
       "    <tr>\n",
       "      <th>REMOTE_APP_PACKETS</th>\n",
       "      <td>-0.033779</td>\n",
       "      <td>-0.030597</td>\n",
       "      <td>0.091077</td>\n",
       "      <td>0.990848</td>\n",
       "      <td>0.591188</td>\n",
       "      <td>0.304683</td>\n",
       "      <td>0.468999</td>\n",
       "      <td>0.989285</td>\n",
       "      <td>1.000000</td>\n",
       "      <td>0.880555</td>\n",
       "      <td>0.470401</td>\n",
       "      <td>0.989285</td>\n",
       "      <td>0.355716</td>\n",
       "      <td>-0.032897</td>\n",
       "    </tr>\n",
       "    <tr>\n",
       "      <th>SOURCE_APP_BYTES</th>\n",
       "      <td>-0.014857</td>\n",
       "      <td>-0.014376</td>\n",
       "      <td>0.100094</td>\n",
       "      <td>0.865580</td>\n",
       "      <td>0.313359</td>\n",
       "      <td>0.171651</td>\n",
       "      <td>0.074464</td>\n",
       "      <td>0.857495</td>\n",
       "      <td>0.880555</td>\n",
       "      <td>1.000000</td>\n",
       "      <td>0.075328</td>\n",
       "      <td>0.857495</td>\n",
       "      <td>0.215285</td>\n",
       "      <td>-0.043852</td>\n",
       "    </tr>\n",
       "    <tr>\n",
       "      <th>REMOTE_APP_BYTES</th>\n",
       "      <td>-0.026686</td>\n",
       "      <td>-0.024098</td>\n",
       "      <td>0.047595</td>\n",
       "      <td>0.458702</td>\n",
       "      <td>0.781212</td>\n",
       "      <td>0.025324</td>\n",
       "      <td>0.999992</td>\n",
       "      <td>0.447448</td>\n",
       "      <td>0.470401</td>\n",
       "      <td>0.075328</td>\n",
       "      <td>1.000000</td>\n",
       "      <td>0.447448</td>\n",
       "      <td>0.016215</td>\n",
       "      <td>-0.011004</td>\n",
       "    </tr>\n",
       "    <tr>\n",
       "      <th>APP_PACKETS</th>\n",
       "      <td>-0.042264</td>\n",
       "      <td>-0.040096</td>\n",
       "      <td>0.074142</td>\n",
       "      <td>0.997796</td>\n",
       "      <td>0.558612</td>\n",
       "      <td>0.361104</td>\n",
       "      <td>0.445822</td>\n",
       "      <td>1.000000</td>\n",
       "      <td>0.989285</td>\n",
       "      <td>0.857495</td>\n",
       "      <td>0.447448</td>\n",
       "      <td>1.000000</td>\n",
       "      <td>0.410843</td>\n",
       "      <td>-0.034414</td>\n",
       "    </tr>\n",
       "    <tr>\n",
       "      <th>DNS_QUERY_TIMES</th>\n",
       "      <td>-0.068582</td>\n",
       "      <td>-0.050048</td>\n",
       "      <td>-0.045644</td>\n",
       "      <td>0.349832</td>\n",
       "      <td>0.259942</td>\n",
       "      <td>0.548189</td>\n",
       "      <td>0.012221</td>\n",
       "      <td>0.410843</td>\n",
       "      <td>0.355716</td>\n",
       "      <td>0.215285</td>\n",
       "      <td>0.016215</td>\n",
       "      <td>0.410843</td>\n",
       "      <td>1.000000</td>\n",
       "      <td>0.068753</td>\n",
       "    </tr>\n",
       "    <tr>\n",
       "      <th>Type</th>\n",
       "      <td>0.162104</td>\n",
       "      <td>0.280897</td>\n",
       "      <td>-0.090852</td>\n",
       "      <td>-0.040202</td>\n",
       "      <td>-0.082925</td>\n",
       "      <td>-0.078783</td>\n",
       "      <td>-0.011262</td>\n",
       "      <td>-0.034414</td>\n",
       "      <td>-0.032897</td>\n",
       "      <td>-0.043852</td>\n",
       "      <td>-0.011004</td>\n",
       "      <td>-0.034414</td>\n",
       "      <td>0.068753</td>\n",
       "      <td>1.000000</td>\n",
       "    </tr>\n",
       "  </tbody>\n",
       "</table>\n",
       "</div>"
      ],
      "text/plain": [
       "                           URL_LENGTH  NUMBER_SPECIAL_CHARACTERS  \\\n",
       "URL_LENGTH                   1.000000                   0.917986   \n",
       "NUMBER_SPECIAL_CHARACTERS    0.917986                   1.000000   \n",
       "CONTENT_LENGTH               0.129745                   0.214225   \n",
       "TCP_CONVERSATION_EXCHANGE   -0.038407                  -0.037459   \n",
       "DIST_REMOTE_TCP_PORT        -0.039839                  -0.042619   \n",
       "REMOTE_IPS                  -0.046367                  -0.047103   \n",
       "APP_BYTES                   -0.026446                  -0.023914   \n",
       "SOURCE_APP_PACKETS          -0.042264                  -0.040096   \n",
       "REMOTE_APP_PACKETS          -0.033779                  -0.030597   \n",
       "SOURCE_APP_BYTES            -0.014857                  -0.014376   \n",
       "REMOTE_APP_BYTES            -0.026686                  -0.024098   \n",
       "APP_PACKETS                 -0.042264                  -0.040096   \n",
       "DNS_QUERY_TIMES             -0.068582                  -0.050048   \n",
       "Type                         0.162104                   0.280897   \n",
       "\n",
       "                           CONTENT_LENGTH  TCP_CONVERSATION_EXCHANGE  \\\n",
       "URL_LENGTH                       0.129745                  -0.038407   \n",
       "NUMBER_SPECIAL_CHARACTERS        0.214225                  -0.037459   \n",
       "CONTENT_LENGTH                   1.000000                   0.078451   \n",
       "TCP_CONVERSATION_EXCHANGE        0.078451                   1.000000   \n",
       "DIST_REMOTE_TCP_PORT            -0.000381                   0.555188   \n",
       "REMOTE_IPS                       0.004774                   0.331080   \n",
       "APP_BYTES                        0.051202                   0.457320   \n",
       "SOURCE_APP_PACKETS               0.074142                   0.997796   \n",
       "REMOTE_APP_PACKETS               0.091077                   0.990848   \n",
       "SOURCE_APP_BYTES                 0.100094                   0.865580   \n",
       "REMOTE_APP_BYTES                 0.047595                   0.458702   \n",
       "APP_PACKETS                      0.074142                   0.997796   \n",
       "DNS_QUERY_TIMES                 -0.045644                   0.349832   \n",
       "Type                            -0.090852                  -0.040202   \n",
       "\n",
       "                           DIST_REMOTE_TCP_PORT  REMOTE_IPS  APP_BYTES  \\\n",
       "URL_LENGTH                            -0.039839   -0.046367  -0.026446   \n",
       "NUMBER_SPECIAL_CHARACTERS             -0.042619   -0.047103  -0.023914   \n",
       "CONTENT_LENGTH                        -0.000381    0.004774   0.051202   \n",
       "TCP_CONVERSATION_EXCHANGE              0.555188    0.331080   0.457320   \n",
       "DIST_REMOTE_TCP_PORT                   1.000000    0.210188   0.780238   \n",
       "REMOTE_IPS                             0.210188    1.000000   0.023126   \n",
       "APP_BYTES                              0.780238    0.023126   1.000000   \n",
       "SOURCE_APP_PACKETS                     0.558612    0.361104   0.445822   \n",
       "REMOTE_APP_PACKETS                     0.591188    0.304683   0.468999   \n",
       "SOURCE_APP_BYTES                       0.313359    0.171651   0.074464   \n",
       "REMOTE_APP_BYTES                       0.781212    0.025324   0.999992   \n",
       "APP_PACKETS                            0.558612    0.361104   0.445822   \n",
       "DNS_QUERY_TIMES                        0.259942    0.548189   0.012221   \n",
       "Type                                  -0.082925   -0.078783  -0.011262   \n",
       "\n",
       "                           SOURCE_APP_PACKETS  REMOTE_APP_PACKETS  \\\n",
       "URL_LENGTH                          -0.042264           -0.033779   \n",
       "NUMBER_SPECIAL_CHARACTERS           -0.040096           -0.030597   \n",
       "CONTENT_LENGTH                       0.074142            0.091077   \n",
       "TCP_CONVERSATION_EXCHANGE            0.997796            0.990848   \n",
       "DIST_REMOTE_TCP_PORT                 0.558612            0.591188   \n",
       "REMOTE_IPS                           0.361104            0.304683   \n",
       "APP_BYTES                            0.445822            0.468999   \n",
       "SOURCE_APP_PACKETS                   1.000000            0.989285   \n",
       "REMOTE_APP_PACKETS                   0.989285            1.000000   \n",
       "SOURCE_APP_BYTES                     0.857495            0.880555   \n",
       "REMOTE_APP_BYTES                     0.447448            0.470401   \n",
       "APP_PACKETS                          1.000000            0.989285   \n",
       "DNS_QUERY_TIMES                      0.410843            0.355716   \n",
       "Type                                -0.034414           -0.032897   \n",
       "\n",
       "                           SOURCE_APP_BYTES  REMOTE_APP_BYTES  APP_PACKETS  \\\n",
       "URL_LENGTH                        -0.014857         -0.026686    -0.042264   \n",
       "NUMBER_SPECIAL_CHARACTERS         -0.014376         -0.024098    -0.040096   \n",
       "CONTENT_LENGTH                     0.100094          0.047595     0.074142   \n",
       "TCP_CONVERSATION_EXCHANGE          0.865580          0.458702     0.997796   \n",
       "DIST_REMOTE_TCP_PORT               0.313359          0.781212     0.558612   \n",
       "REMOTE_IPS                         0.171651          0.025324     0.361104   \n",
       "APP_BYTES                          0.074464          0.999992     0.445822   \n",
       "SOURCE_APP_PACKETS                 0.857495          0.447448     1.000000   \n",
       "REMOTE_APP_PACKETS                 0.880555          0.470401     0.989285   \n",
       "SOURCE_APP_BYTES                   1.000000          0.075328     0.857495   \n",
       "REMOTE_APP_BYTES                   0.075328          1.000000     0.447448   \n",
       "APP_PACKETS                        0.857495          0.447448     1.000000   \n",
       "DNS_QUERY_TIMES                    0.215285          0.016215     0.410843   \n",
       "Type                              -0.043852         -0.011004    -0.034414   \n",
       "\n",
       "                           DNS_QUERY_TIMES      Type  \n",
       "URL_LENGTH                       -0.068582  0.162104  \n",
       "NUMBER_SPECIAL_CHARACTERS        -0.050048  0.280897  \n",
       "CONTENT_LENGTH                   -0.045644 -0.090852  \n",
       "TCP_CONVERSATION_EXCHANGE         0.349832 -0.040202  \n",
       "DIST_REMOTE_TCP_PORT              0.259942 -0.082925  \n",
       "REMOTE_IPS                        0.548189 -0.078783  \n",
       "APP_BYTES                         0.012221 -0.011262  \n",
       "SOURCE_APP_PACKETS                0.410843 -0.034414  \n",
       "REMOTE_APP_PACKETS                0.355716 -0.032897  \n",
       "SOURCE_APP_BYTES                  0.215285 -0.043852  \n",
       "REMOTE_APP_BYTES                  0.016215 -0.011004  \n",
       "APP_PACKETS                       0.410843 -0.034414  \n",
       "DNS_QUERY_TIMES                   1.000000  0.068753  \n",
       "Type                              0.068753  1.000000  "
      ]
     },
     "execution_count": 6,
     "metadata": {},
     "output_type": "execute_result"
    }
   ],
   "source": [
    "websites.corr()"
   ]
  },
  {
   "cell_type": "code",
   "execution_count": 7,
   "metadata": {
    "ExecuteTime": {
     "end_time": "2019-10-19T10:13:15.940792Z",
     "start_time": "2019-10-19T10:13:15.164747Z"
    }
   },
   "outputs": [
    {
     "data": {
      "text/plain": [
       "<matplotlib.axes._subplots.AxesSubplot at 0x7f40e7aacef0>"
      ]
     },
     "execution_count": 7,
     "metadata": {},
     "output_type": "execute_result"
    },
    {
     "data": {
      "image/png": "[encoded data removed]",
      "text/plain": [
       "<Figure size 1008x504 with 2 Axes>"
      ]
     },
     "metadata": {
      "needs_background": "light"
     },
     "output_type": "display_data"
    }
   ],
   "source": [
    "# Set Variables:\n",
    "cormat = websites.corr()\n",
    "figsize = (14, 7)\n",
    "vmin= -1 # Sets maximum color\n",
    "vmax= 1 # Sets minimum color\n",
    "cmap = 'coolwarm' # Palette\n",
    "\n",
    "# Create mask for upper half:\n",
    "mask = np.zeros_like(cormat, dtype=np.bool)\n",
    "mask[np.triu_indices_from(mask)] = True\n",
    "\n",
    "# Plot figure:\n",
    "plt.figure(figsize=figsize)\n",
    "sns.heatmap(cormat, \n",
    "            vmin=vmin, vmax=vmax, \n",
    "            cmap=cmap, \n",
    "            annot=True,\n",
    "            mask= mask)"
   ]
  },
  {
   "cell_type": "markdown",
   "metadata": {},
   "source": [
    "Columns with high colinearity (> 0.8):\n",
    "* URL_LENGTH | NUMBER_SPECIAL_CHARACTERS\n",
    "* SOURCE_APP_PACKETS | TCP_CONVERSATION_EXCHANGE\n",
    "* REMOTE_APP_PACKETS | TCP_CONVERSATION_EXCHANGE\n",
    "* SOURCE_APP_BYTES | TCP_CONVERSATION_EXCHANGE\n",
    "* APP_PACKETS | TCP_CONVERSATION_EXCHANGE\n",
    "* APP_BYTES | REMOTE_APP_BYTES\n",
    "* SOURCE_APP_PACKETS | REMOTE_APP_PACKETS\n",
    "* SOURCE_APP_PACKETS | SOURCE_APP_BYTES\n",
    "* SOURCE_APP_PACKETS | APP_PACKETS\n",
    "* REMOTE_APP_PACKETS | SOURCE_APP_BYTES\n",
    "* REMOTE_APP_PACKETS | APP_PACKETS\n",
    "* SOURCE_APP_BYTES | APP_PACKETS"
   ]
  },
  {
   "cell_type": "code",
   "execution_count": 8,
   "metadata": {
    "ExecuteTime": {
     "end_time": "2019-10-19T10:13:16.347972Z",
     "start_time": "2019-10-19T10:13:15.943959Z"
    }
   },
   "outputs": [
    {
     "data": {
      "text/plain": [
       "<matplotlib.axes._subplots.AxesSubplot at 0x7f40e7aac080>"
      ]
     },
     "execution_count": 8,
     "metadata": {},
     "output_type": "execute_result"
    },
    {
     "data": {
      "image/png": "[encoded data removed]",
      "text/plain": [
       "<Figure size 1008x504 with 2 Axes>"
      ]
     },
     "metadata": {
      "needs_background": "light"
     },
     "output_type": "display_data"
    }
   ],
   "source": [
    "\"\"\"Filtering to get only those with correlation > 0.9\"\"\"\n",
    "\n",
    "# Set Variables:\n",
    "cormat = websites.corr()[websites.corr() >= 0.9]\n",
    "figsize = (14, 7)\n",
    "vmin= -1 # Sets maximum color\n",
    "vmax= 1 # Sets minimum color\n",
    "cmap = 'coolwarm' # Palette\n",
    " \n",
    "# Create mask for upper half:\n",
    "mask = np.zeros_like(cormat, dtype=np.bool)\n",
    "mask[np.triu_indices_from(mask)] = True\n",
    " \n",
    "# Plot figure:\n",
    "plt.figure(figsize=figsize)\n",
    "sns.heatmap(cormat,\n",
    "vmin=vmin, vmax=vmax,\n",
    "cmap=cmap,\n",
    "annot=True,\n",
    "mask= mask)"
   ]
  },
  {
   "cell_type": "markdown",
   "metadata": {},
   "source": [
    "So I wil be removing NUMBER_SPECIAL_CHARACTERS as well as SOURCE_APP_PACKETS, REMOTE_APP_PACKETS, REMOTE_APP_BYTES and SOURCE_APP_BYTES as they correlate strongly with TCP_CONVERSATION_EXCHANGE"
   ]
  },
  {
   "cell_type": "markdown",
   "metadata": {},
   "source": [
    "# Challenge 2 - Remove Column Collinearity.\n",
    "\n",
    "From the heatmap you created, you should have seen at least 3 columns that can be removed due to high collinearity. Remove these columns from the dataset.\n",
    "\n",
    "Note that you should remove as few columns as you can. You don't have to remove all the columns at once. But instead, try removing one column, then produce the heatmap again to determine if additional columns should be removed. As long as the dataset no longer contains columns that are correlated for over 90%, you can stop. Also, keep in mind when two columns have high collinearity, you only need to remove one of them but not both.\n",
    "\n",
    "In the cells below, remove as few columns as you can to eliminate the high collinearity in the dataset. Make sure to comment on your way so that the instructional team can learn about your thinking process which allows them to give feedback. At the end, print the heatmap again."
   ]
  },
  {
   "cell_type": "code",
   "execution_count": 9,
   "metadata": {
    "ExecuteTime": {
     "end_time": "2019-10-19T10:13:16.354387Z",
     "start_time": "2019-10-19T10:13:16.350578Z"
    }
   },
   "outputs": [],
   "source": [
    "# Removing NUMBER_SPECIAL_CHARACTERS as I think it is not as useful as URL_length\n",
    "websites.drop('NUMBER_SPECIAL_CHARACTERS', inplace=True, axis=1)"
   ]
  },
  {
   "cell_type": "code",
   "execution_count": 10,
   "metadata": {
    "ExecuteTime": {
     "end_time": "2019-10-19T10:13:16.745948Z",
     "start_time": "2019-10-19T10:13:16.356515Z"
    }
   },
   "outputs": [
    {
     "data": {
      "text/plain": [
       "<matplotlib.axes._subplots.AxesSubplot at 0x7f40e798e6d8>"
      ]
     },
     "execution_count": 10,
     "metadata": {},
     "output_type": "execute_result"
    },
    {
     "data": {
      "image/png": "[encoded data removed]",
      "text/plain": [
       "<Figure size 1008x504 with 2 Axes>"
      ]
     },
     "metadata": {
      "needs_background": "light"
     },
     "output_type": "display_data"
    }
   ],
   "source": [
    "\"\"\"Filtering to get only those with correlation > 0.9\"\"\"\n",
    "\n",
    "# Set Variables:\n",
    "cormat = websites.corr()[websites.corr() >= 0.9]\n",
    "figsize = (14, 7)\n",
    "vmin= -1 # Sets maximum color\n",
    "vmax= 1 # Sets minimum color\n",
    "cmap = 'coolwarm' # Palette\n",
    " \n",
    "# Create mask for upper half:\n",
    "mask = np.zeros_like(cormat, dtype=np.bool)\n",
    "mask[np.triu_indices_from(mask)] = True\n",
    " \n",
    "# Plot figure:\n",
    "plt.figure(figsize=figsize)\n",
    "sns.heatmap(cormat,\n",
    "vmin=vmin, vmax=vmax,\n",
    "cmap=cmap,\n",
    "annot=True,\n",
    "mask= mask)"
   ]
  },
  {
   "cell_type": "markdown",
   "metadata": {},
   "source": [
    "The high correlation is gone, as we have gotten rid of the column."
   ]
  },
  {
   "cell_type": "code",
   "execution_count": 11,
   "metadata": {
    "ExecuteTime": {
     "end_time": "2019-10-19T10:13:16.751072Z",
     "start_time": "2019-10-19T10:13:16.747703Z"
    }
   },
   "outputs": [],
   "source": [
    "# Removing APP_PACKETS:\n",
    "websites.drop('APP_PACKETS', inplace=True, axis=1)"
   ]
  },
  {
   "cell_type": "code",
   "execution_count": 12,
   "metadata": {
    "ExecuteTime": {
     "end_time": "2019-10-19T10:13:17.112151Z",
     "start_time": "2019-10-19T10:13:16.752930Z"
    }
   },
   "outputs": [
    {
     "data": {
      "text/plain": [
       "<matplotlib.axes._subplots.AxesSubplot at 0x7f40e782ec18>"
      ]
     },
     "execution_count": 12,
     "metadata": {},
     "output_type": "execute_result"
    },
    {
     "data": {
      "image/png": "[encoded data removed]",
      "text/plain": [
       "<Figure size 1008x504 with 2 Axes>"
      ]
     },
     "metadata": {
      "needs_background": "light"
     },
     "output_type": "display_data"
    }
   ],
   "source": [
    "\"\"\"Filtering to get only those with correlation > 0.9\"\"\"\n",
    "\n",
    "# Set Variables:\n",
    "cormat = websites.corr()[websites.corr() >= 0.9]\n",
    "figsize = (14, 7)\n",
    "vmin= -1 # Sets maximum color\n",
    "vmax= 1 # Sets minimum color\n",
    "cmap = 'coolwarm' # Palette\n",
    " \n",
    "# Create mask for upper half:\n",
    "mask = np.zeros_like(cormat, dtype=np.bool)\n",
    "mask[np.triu_indices_from(mask)] = True\n",
    " \n",
    "# Plot figure:\n",
    "plt.figure(figsize=figsize)\n",
    "sns.heatmap(cormat,\n",
    "vmin=vmin, vmax=vmax,\n",
    "cmap=cmap,\n",
    "annot=True,\n",
    "mask= mask)"
   ]
  },
  {
   "cell_type": "code",
   "execution_count": 13,
   "metadata": {
    "ExecuteTime": {
     "end_time": "2019-10-19T10:13:17.117544Z",
     "start_time": "2019-10-19T10:13:17.114284Z"
    }
   },
   "outputs": [],
   "source": [
    "# Removing SOURCE_APP_PACKETS:\n",
    "websites.drop('SOURCE_APP_PACKETS', inplace=True, axis=1)"
   ]
  },
  {
   "cell_type": "code",
   "execution_count": 14,
   "metadata": {
    "ExecuteTime": {
     "end_time": "2019-10-19T10:13:17.457039Z",
     "start_time": "2019-10-19T10:13:17.118956Z"
    }
   },
   "outputs": [
    {
     "data": {
      "text/plain": [
       "<matplotlib.axes._subplots.AxesSubplot at 0x7f40e7603f98>"
      ]
     },
     "execution_count": 14,
     "metadata": {},
     "output_type": "execute_result"
    },
    {
     "data": {
      "image/png": "[encoded data removed]",
      "text/plain": [
       "<Figure size 1008x504 with 2 Axes>"
      ]
     },
     "metadata": {
      "needs_background": "light"
     },
     "output_type": "display_data"
    }
   ],
   "source": [
    "\"\"\"Filtering to get only those with correlation > 0.9\"\"\"\n",
    "\n",
    "# Set Variables:\n",
    "cormat = websites.corr()[websites.corr() >= 0.9]\n",
    "figsize = (14, 7)\n",
    "vmin= -1 # Sets maximum color\n",
    "vmax= 1 # Sets minimum color\n",
    "cmap = 'coolwarm' # Palette\n",
    " \n",
    "# Create mask for upper half:\n",
    "mask = np.zeros_like(cormat, dtype=np.bool)\n",
    "mask[np.triu_indices_from(mask)] = True\n",
    " \n",
    "# Plot figure:\n",
    "plt.figure(figsize=figsize)\n",
    "sns.heatmap(cormat,\n",
    "vmin=vmin, vmax=vmax,\n",
    "cmap=cmap,\n",
    "annot=True,\n",
    "mask= mask)"
   ]
  },
  {
   "cell_type": "code",
   "execution_count": 15,
   "metadata": {
    "ExecuteTime": {
     "end_time": "2019-10-19T10:13:17.462486Z",
     "start_time": "2019-10-19T10:13:17.459021Z"
    }
   },
   "outputs": [],
   "source": [
    "# Removing REMOTE_APP_PACKETS:\n",
    "websites.drop('REMOTE_APP_PACKETS', inplace=True, axis=1)"
   ]
  },
  {
   "cell_type": "code",
   "execution_count": 16,
   "metadata": {
    "ExecuteTime": {
     "end_time": "2019-10-19T10:13:17.790651Z",
     "start_time": "2019-10-19T10:13:17.464366Z"
    }
   },
   "outputs": [
    {
     "data": {
      "text/plain": [
       "<matplotlib.axes._subplots.AxesSubplot at 0x7f40e7555518>"
      ]
     },
     "execution_count": 16,
     "metadata": {},
     "output_type": "execute_result"
    },
    {
     "data": {
      "image/png": "[encoded data removed]",
      "text/plain": [
       "<Figure size 1008x504 with 2 Axes>"
      ]
     },
     "metadata": {
      "needs_background": "light"
     },
     "output_type": "display_data"
    }
   ],
   "source": [
    "\"\"\"Filtering to get only those with correlation > 0.9\"\"\"\n",
    "\n",
    "# Set Variables:\n",
    "cormat = websites.corr()[websites.corr() >= 0.9]\n",
    "figsize = (14, 7)\n",
    "vmin= -1 # Sets maximum color\n",
    "vmax= 1 # Sets minimum color\n",
    "cmap = 'coolwarm' # Palette\n",
    " \n",
    "# Create mask for upper half:\n",
    "mask = np.zeros_like(cormat, dtype=np.bool)\n",
    "mask[np.triu_indices_from(mask)] = True\n",
    " \n",
    "# Plot figure:\n",
    "plt.figure(figsize=figsize)\n",
    "sns.heatmap(cormat,\n",
    "vmin=vmin, vmax=vmax,\n",
    "cmap=cmap,\n",
    "annot=True,\n",
    "mask= mask)"
   ]
  },
  {
   "cell_type": "code",
   "execution_count": 17,
   "metadata": {
    "ExecuteTime": {
     "end_time": "2019-10-19T10:13:17.795713Z",
     "start_time": "2019-10-19T10:13:17.792207Z"
    }
   },
   "outputs": [],
   "source": [
    "# Removing REMOTE_APP_BYTES:\n",
    "websites.drop('REMOTE_APP_BYTES', inplace=True, axis=1)"
   ]
  },
  {
   "cell_type": "code",
   "execution_count": 18,
   "metadata": {
    "ExecuteTime": {
     "end_time": "2019-10-19T10:13:18.162170Z",
     "start_time": "2019-10-19T10:13:17.797195Z"
    }
   },
   "outputs": [
    {
     "data": {
      "text/plain": [
       "<matplotlib.axes._subplots.AxesSubplot at 0x7f40bc10ddd8>"
      ]
     },
     "execution_count": 18,
     "metadata": {},
     "output_type": "execute_result"
    },
    {
     "data": {
      "image/png": "[encoded data removed]",
      "text/plain": [
       "<Figure size 1008x504 with 2 Axes>"
      ]
     },
     "metadata": {
      "needs_background": "light"
     },
     "output_type": "display_data"
    }
   ],
   "source": [
    "\"\"\"Filtering to get only those with correlation > 0.9\"\"\"\n",
    "\n",
    "# Set Variables:\n",
    "cormat = websites.corr()[websites.corr() >= 0.9]\n",
    "figsize = (14, 7)\n",
    "vmin= -1 # Sets maximum color\n",
    "vmax= 1 # Sets minimum color\n",
    "cmap = 'coolwarm' # Palette\n",
    " \n",
    "# Create mask for upper half:\n",
    "mask = np.zeros_like(cormat, dtype=np.bool)\n",
    "mask[np.triu_indices_from(mask)] = True\n",
    " \n",
    "# Plot figure:\n",
    "plt.figure(figsize=figsize)\n",
    "sns.heatmap(cormat,\n",
    "vmin=vmin, vmax=vmax,\n",
    "cmap=cmap,\n",
    "annot=True,\n",
    "mask= mask)"
   ]
  },
  {
   "cell_type": "markdown",
   "metadata": {},
   "source": [
    "# Challenge 3 - Handle Missing Values\n",
    "\n",
    "The next step would be handling missing values. **We start by examining the number of missing values in each column, which you will do in the next cell.**"
   ]
  },
  {
   "cell_type": "code",
   "execution_count": 19,
   "metadata": {
    "ExecuteTime": {
     "end_time": "2019-10-19T10:13:18.169338Z",
     "start_time": "2019-10-19T10:13:18.163863Z"
    }
   },
   "outputs": [
    {
     "data": {
      "text/plain": [
       "URL                            0\n",
       "URL_LENGTH                     0\n",
       "CHARSET                        0\n",
       "SERVER                         1\n",
       "CONTENT_LENGTH               812\n",
       "WHOIS_COUNTRY                  0\n",
       "WHOIS_STATEPRO                 0\n",
       "WHOIS_REGDATE                  0\n",
       "WHOIS_UPDATED_DATE             0\n",
       "TCP_CONVERSATION_EXCHANGE      0\n",
       "DIST_REMOTE_TCP_PORT           0\n",
       "REMOTE_IPS                     0\n",
       "APP_BYTES                      0\n",
       "SOURCE_APP_BYTES               0\n",
       "DNS_QUERY_TIMES                1\n",
       "Type                           0\n",
       "dtype: int64"
      ]
     },
     "execution_count": 19,
     "metadata": {},
     "output_type": "execute_result"
    }
   ],
   "source": [
    "websites.isna().sum()"
   ]
  },
  {
   "cell_type": "markdown",
   "metadata": {},
   "source": [
    "If you remember in the previous labs, we drop a column if the column contains a high proportion of missing values. After dropping those problematic columns, we drop the rows with missing values.\n",
    "\n",
    "#### In the cells below, handle the missing values from the dataset. Remember to comment the rationale of your decisions."
   ]
  },
  {
   "cell_type": "markdown",
   "metadata": {},
   "source": [
    "Although CONTENT_LENGTH would be a useful variable to bear in mind, the number of missing values (about half of the rows) makes it a bit useless. Also, I don't see a way I could impute those nulls, so I decide to drop the column."
   ]
  },
  {
   "cell_type": "code",
   "execution_count": 20,
   "metadata": {
    "ExecuteTime": {
     "end_time": "2019-10-19T10:13:18.173935Z",
     "start_time": "2019-10-19T10:13:18.170842Z"
    }
   },
   "outputs": [],
   "source": [
    "websites.drop('CONTENT_LENGTH', axis=1, inplace=True)"
   ]
  },
  {
   "cell_type": "markdown",
   "metadata": {},
   "source": [
    "I check for the other two nulls"
   ]
  },
  {
   "cell_type": "code",
   "execution_count": 21,
   "metadata": {
    "ExecuteTime": {
     "end_time": "2019-10-19T10:13:18.187461Z",
     "start_time": "2019-10-19T10:13:18.175234Z"
    }
   },
   "outputs": [
    {
     "data": {
      "text/html": [
       "<div>\n",
       "<style scoped>\n",
       "    .dataframe tbody tr th:only-of-type {\n",
       "        vertical-align: middle;\n",
       "    }\n",
       "\n",
       "    .dataframe tbody tr th {\n",
       "        vertical-align: top;\n",
       "    }\n",
       "\n",
       "    .dataframe thead th {\n",
       "        text-align: right;\n",
       "    }\n",
       "</style>\n",
       "<table border=\"1\" class=\"dataframe\">\n",
       "  <thead>\n",
       "    <tr style=\"text-align: right;\">\n",
       "      <th></th>\n",
       "      <th>URL</th>\n",
       "      <th>URL_LENGTH</th>\n",
       "      <th>CHARSET</th>\n",
       "      <th>SERVER</th>\n",
       "      <th>WHOIS_COUNTRY</th>\n",
       "      <th>WHOIS_STATEPRO</th>\n",
       "      <th>WHOIS_REGDATE</th>\n",
       "      <th>WHOIS_UPDATED_DATE</th>\n",
       "      <th>TCP_CONVERSATION_EXCHANGE</th>\n",
       "      <th>DIST_REMOTE_TCP_PORT</th>\n",
       "      <th>REMOTE_IPS</th>\n",
       "      <th>APP_BYTES</th>\n",
       "      <th>SOURCE_APP_BYTES</th>\n",
       "      <th>DNS_QUERY_TIMES</th>\n",
       "      <th>Type</th>\n",
       "    </tr>\n",
       "  </thead>\n",
       "  <tbody>\n",
       "    <tr>\n",
       "      <th>1306</th>\n",
       "      <td>B0_2134</td>\n",
       "      <td>66</td>\n",
       "      <td>UTF-8</td>\n",
       "      <td>NaN</td>\n",
       "      <td>US</td>\n",
       "      <td>District of Columbia</td>\n",
       "      <td>1/02/2003 16:44</td>\n",
       "      <td>2/02/2017 17:11</td>\n",
       "      <td>15</td>\n",
       "      <td>2</td>\n",
       "      <td>4</td>\n",
       "      <td>1026</td>\n",
       "      <td>246</td>\n",
       "      <td>0.0</td>\n",
       "      <td>0</td>\n",
       "    </tr>\n",
       "    <tr>\n",
       "      <th>1659</th>\n",
       "      <td>B0_772</td>\n",
       "      <td>101</td>\n",
       "      <td>UTF-8</td>\n",
       "      <td>Apache</td>\n",
       "      <td>CA</td>\n",
       "      <td>ON</td>\n",
       "      <td>14/12/2009 0:00</td>\n",
       "      <td>13/12/2016 0:00</td>\n",
       "      <td>4</td>\n",
       "      <td>2</td>\n",
       "      <td>2</td>\n",
       "      <td>276</td>\n",
       "      <td>416</td>\n",
       "      <td>NaN</td>\n",
       "      <td>0</td>\n",
       "    </tr>\n",
       "  </tbody>\n",
       "</table>\n",
       "</div>"
      ],
      "text/plain": [
       "          URL  URL_LENGTH CHARSET  SERVER WHOIS_COUNTRY        WHOIS_STATEPRO  \\\n",
       "1306  B0_2134          66   UTF-8     NaN            US  District of Columbia   \n",
       "1659   B0_772         101   UTF-8  Apache            CA                    ON   \n",
       "\n",
       "        WHOIS_REGDATE WHOIS_UPDATED_DATE  TCP_CONVERSATION_EXCHANGE  \\\n",
       "1306  1/02/2003 16:44    2/02/2017 17:11                         15   \n",
       "1659  14/12/2009 0:00    13/12/2016 0:00                          4   \n",
       "\n",
       "      DIST_REMOTE_TCP_PORT  REMOTE_IPS  APP_BYTES  SOURCE_APP_BYTES  \\\n",
       "1306                     2           4       1026               246   \n",
       "1659                     2           2        276               416   \n",
       "\n",
       "      DNS_QUERY_TIMES  Type  \n",
       "1306              0.0     0  \n",
       "1659              NaN     0  "
      ]
     },
     "execution_count": 21,
     "metadata": {},
     "output_type": "execute_result"
    }
   ],
   "source": [
    "websites.loc[(websites.SERVER.isnull()) | (websites.DNS_QUERY_TIMES.isnull())]"
   ]
  },
  {
   "cell_type": "markdown",
   "metadata": {},
   "source": [
    "As they both are part of the non-malicious group (the biggest) and I can't see a way to impute them, I drop them, as I think two observations among more than 1700 will not change the outcome."
   ]
  },
  {
   "cell_type": "code",
   "execution_count": 22,
   "metadata": {
    "ExecuteTime": {
     "end_time": "2019-10-19T10:13:18.192278Z",
     "start_time": "2019-10-19T10:13:18.189223Z"
    }
   },
   "outputs": [],
   "source": [
    "websites.drop([1306, 1659], inplace=True)"
   ]
  },
  {
   "cell_type": "markdown",
   "metadata": {},
   "source": [
    "#### Again, examine the number of missing values in each column. \n",
    "\n",
    "If all cleaned, proceed. Otherwise, go back and do more cleaning."
   ]
  },
  {
   "cell_type": "code",
   "execution_count": 23,
   "metadata": {
    "ExecuteTime": {
     "end_time": "2019-10-19T10:13:18.201245Z",
     "start_time": "2019-10-19T10:13:18.196106Z"
    }
   },
   "outputs": [
    {
     "data": {
      "text/plain": [
       "URL                          0\n",
       "URL_LENGTH                   0\n",
       "CHARSET                      0\n",
       "SERVER                       0\n",
       "WHOIS_COUNTRY                0\n",
       "WHOIS_STATEPRO               0\n",
       "WHOIS_REGDATE                0\n",
       "WHOIS_UPDATED_DATE           0\n",
       "TCP_CONVERSATION_EXCHANGE    0\n",
       "DIST_REMOTE_TCP_PORT         0\n",
       "REMOTE_IPS                   0\n",
       "APP_BYTES                    0\n",
       "SOURCE_APP_BYTES             0\n",
       "DNS_QUERY_TIMES              0\n",
       "Type                         0\n",
       "dtype: int64"
      ]
     },
     "execution_count": 23,
     "metadata": {},
     "output_type": "execute_result"
    }
   ],
   "source": [
    "websites.isna().sum()"
   ]
  },
  {
   "cell_type": "markdown",
   "metadata": {},
   "source": [
    "# Challenge 4 - Handle `WHOIS_*` Categorical Data"
   ]
  },
  {
   "cell_type": "markdown",
   "metadata": {},
   "source": [
    "There are several categorical columns we need to handle. These columns are:\n",
    "\n",
    "* `URL`\n",
    "* `CHARSET`\n",
    "* `SERVER`\n",
    "* `WHOIS_COUNTRY`\n",
    "* `WHOIS_STATEPRO`\n",
    "* `WHOIS_REGDATE`\n",
    "* `WHOIS_UPDATED_DATE`\n",
    "\n",
    "How to handle string columns is always case by case. Let's start by working on `WHOIS_COUNTRY`. Your steps are:\n",
    "\n",
    "1. List out the unique values of `WHOIS_COUNTRY`.\n",
    "1. Consolidate the country values with consistent country codes. For example, the following values refer to the same country and should use consistent country code:\n",
    "    * `CY` and `Cyprus`\n",
    "    * `US` and `us`\n",
    "    * `SE` and `se`\n",
    "    * `GB`, `United Kingdom`, and `[u'GB'; u'UK']`\n",
    "\n",
    "#### In the cells below, fix the country values as intructed above."
   ]
  },
  {
   "cell_type": "code",
   "execution_count": 24,
   "metadata": {
    "ExecuteTime": {
     "end_time": "2019-10-19T10:13:18.207021Z",
     "start_time": "2019-10-19T10:13:18.203369Z"
    }
   },
   "outputs": [
    {
     "data": {
      "text/plain": [
       "array(['None', 'US', 'SC', 'GB', 'UK', 'RU', 'AU', 'CA', 'PA', 'se', 'IN',\n",
       "       'LU', 'TH', \"[u'GB'; u'UK']\", 'FR', 'NL', 'UG', 'JP', 'CN', 'SE',\n",
       "       'SI', 'IL', 'ru', 'KY', 'AT', 'CZ', 'PH', 'BE', 'NO', 'TR', 'LV',\n",
       "       'DE', 'ES', 'BR', 'us', 'KR', 'HK', 'UA', 'CH', 'United Kingdom',\n",
       "       'BS', 'PK', 'IT', 'Cyprus', 'BY', 'AE', 'IE', 'UY', 'KG'],\n",
       "      dtype=object)"
      ]
     },
     "execution_count": 24,
     "metadata": {},
     "output_type": "execute_result"
    }
   ],
   "source": [
    "websites.WHOIS_COUNTRY.unique()"
   ]
  },
  {
   "cell_type": "code",
   "execution_count": 25,
   "metadata": {
    "ExecuteTime": {
     "end_time": "2019-10-19T10:13:18.554752Z",
     "start_time": "2019-10-19T10:13:18.208484Z"
    }
   },
   "outputs": [
    {
     "name": "stderr",
     "output_type": "stream",
     "text": [
      "/home/eiroamd/.local/lib/python3.6/site-packages/pandas/core/indexing.py:190: SettingWithCopyWarning: \n",
      "A value is trying to be set on a copy of a slice from a DataFrame\n",
      "\n",
      "See the caveats in the documentation: http://pandas.pydata.org/pandas-docs/stable/indexing.html#indexing-view-versus-copy\n",
      "  self._setitem_with_indexer(indexer, value)\n"
     ]
    }
   ],
   "source": [
    "country_dict = {'Cyprus':'CY', 'us':'US', 'se':'SE', 'GB':'UK', 'United Kingdom':'UK', \"[u'GB'; u'UK']\":'UK', 'ru':'RU'}\n",
    "\n",
    "for x,y in country_dict.items():\n",
    "    websites.WHOIS_COUNTRY.loc[(websites.WHOIS_COUNTRY == x)] = y"
   ]
  },
  {
   "cell_type": "markdown",
   "metadata": {},
   "source": [
    "Since we have fixed the country values, can we convert this column to ordinal now?\n",
    "\n",
    "Not yet. If you reflect on the previous labs how we handle categorical columns, you probably remember we ended up dropping a lot of those columns because there are too many unique values. Too many unique values in a column is not desirable in machine learning because it makes prediction inaccurate. But there are workarounds under certain conditions. One of the fixable conditions is:\n",
    "\n",
    "#### If a limited number of values account for the majority of data, we can retain these top values and re-label all other rare values.\n",
    "\n",
    "The `WHOIS_COUNTRY` column happens to be this case. You can verify it by print a bar chart of the `value_counts` in the next cell to verify:"
   ]
  },
  {
   "cell_type": "code",
   "execution_count": 26,
   "metadata": {
    "ExecuteTime": {
     "end_time": "2019-10-19T10:13:18.563804Z",
     "start_time": "2019-10-19T10:13:18.556880Z"
    }
   },
   "outputs": [
    {
     "data": {
      "text/plain": [
       "US      1105\n",
       "None     306\n",
       "CA        83\n",
       "ES        63\n",
       "UK        35\n",
       "AU        35\n",
       "PA        21\n",
       "JP        11\n",
       "IN        10\n",
       "CN        10\n",
       "CZ         9\n",
       "FR         9\n",
       "CH         6\n",
       "RU         6\n",
       "NL         6\n",
       "KR         5\n",
       "PH         4\n",
       "AT         4\n",
       "BS         4\n",
       "SE         4\n",
       "HK         3\n",
       "SC         3\n",
       "BE         3\n",
       "DE         3\n",
       "TR         3\n",
       "KY         3\n",
       "SI         2\n",
       "BR         2\n",
       "NO         2\n",
       "KG         2\n",
       "IL         2\n",
       "CY         2\n",
       "UA         2\n",
       "UY         2\n",
       "AE         1\n",
       "IE         1\n",
       "PK         1\n",
       "LU         1\n",
       "LV         1\n",
       "IT         1\n",
       "UG         1\n",
       "BY         1\n",
       "TH         1\n",
       "Name: WHOIS_COUNTRY, dtype: int64"
      ]
     },
     "execution_count": 26,
     "metadata": {},
     "output_type": "execute_result"
    }
   ],
   "source": [
    "websites.WHOIS_COUNTRY.value_counts()"
   ]
  },
  {
   "cell_type": "markdown",
   "metadata": {},
   "source": [
    "#### After verifying, now let's keep the top 10 values of the column and re-label other columns with `OTHER`."
   ]
  },
  {
   "cell_type": "code",
   "execution_count": 27,
   "metadata": {
    "ExecuteTime": {
     "end_time": "2019-10-19T10:13:18.569265Z",
     "start_time": "2019-10-19T10:13:18.566223Z"
    },
    "scrolled": true
   },
   "outputs": [],
   "source": [
    "def subs_other(string):\n",
    "    if string in list(websites.WHOIS_COUNTRY.value_counts()[10:].index):\n",
    "        return 'OTHER'\n",
    "    else:\n",
    "        return string"
   ]
  },
  {
   "cell_type": "code",
   "execution_count": 28,
   "metadata": {
    "ExecuteTime": {
     "end_time": "2019-10-19T10:13:20.341902Z",
     "start_time": "2019-10-19T10:13:18.571110Z"
    }
   },
   "outputs": [],
   "source": [
    "websites.WHOIS_COUNTRY = websites.WHOIS_COUNTRY.apply(subs_other)"
   ]
  },
  {
   "cell_type": "markdown",
   "metadata": {},
   "source": [
    "Now since `WHOIS_COUNTRY` has been re-labelled, we don't need `WHOIS_STATEPRO` any more because the values of the states or provinces may not be relevant any more. We'll drop this column.\n",
    "\n",
    "In addition, we will also drop `WHOIS_REGDATE` and `WHOIS_UPDATED_DATE`. These are the registration and update dates of the website domains. Not of our concerns.\n",
    "\n",
    "#### In the next cell, drop `['WHOIS_STATEPRO', 'WHOIS_REGDATE', 'WHOIS_UPDATED_DATE']`."
   ]
  },
  {
   "cell_type": "code",
   "execution_count": 29,
   "metadata": {
    "ExecuteTime": {
     "end_time": "2019-10-19T10:13:20.348928Z",
     "start_time": "2019-10-19T10:13:20.343909Z"
    }
   },
   "outputs": [],
   "source": [
    "websites.drop(['WHOIS_STATEPRO', 'WHOIS_REGDATE', 'WHOIS_UPDATED_DATE'], axis=1, inplace=True)"
   ]
  },
  {
   "cell_type": "markdown",
   "metadata": {},
   "source": [
    "# Challenge 5 - Handle Remaining Categorical Data & Convert to Ordinal\n",
    "\n",
    "Now print the `dtypes` of the data again. Besides `WHOIS_COUNTRY` which we already fixed, there should be 3 categorical columns left: `URL`, `CHARSET`, and `SERVER`."
   ]
  },
  {
   "cell_type": "code",
   "execution_count": 30,
   "metadata": {
    "ExecuteTime": {
     "end_time": "2019-10-19T10:13:20.356448Z",
     "start_time": "2019-10-19T10:13:20.351021Z"
    }
   },
   "outputs": [
    {
     "data": {
      "text/plain": [
       "URL                           object\n",
       "URL_LENGTH                     int64\n",
       "CHARSET                       object\n",
       "SERVER                        object\n",
       "WHOIS_COUNTRY                 object\n",
       "TCP_CONVERSATION_EXCHANGE      int64\n",
       "DIST_REMOTE_TCP_PORT           int64\n",
       "REMOTE_IPS                     int64\n",
       "APP_BYTES                      int64\n",
       "SOURCE_APP_BYTES               int64\n",
       "DNS_QUERY_TIMES              float64\n",
       "Type                           int64\n",
       "dtype: object"
      ]
     },
     "execution_count": 30,
     "metadata": {},
     "output_type": "execute_result"
    }
   ],
   "source": [
    "websites.dtypes"
   ]
  },
  {
   "cell_type": "markdown",
   "metadata": {},
   "source": [
    "#### `URL` is easy. We'll simply drop it because it has too many unique values that there's no way for us to consolidate."
   ]
  },
  {
   "cell_type": "code",
   "execution_count": 31,
   "metadata": {
    "ExecuteTime": {
     "end_time": "2019-10-19T10:13:20.364803Z",
     "start_time": "2019-10-19T10:13:20.359175Z"
    }
   },
   "outputs": [],
   "source": [
    "websites.drop('URL', axis=1, inplace=True)"
   ]
  },
  {
   "cell_type": "markdown",
   "metadata": {},
   "source": [
    "#### Print the unique value counts of `CHARSET`. You see there are only a few unique values. So we can keep it as it is."
   ]
  },
  {
   "cell_type": "code",
   "execution_count": 32,
   "metadata": {
    "ExecuteTime": {
     "end_time": "2019-10-19T10:13:20.374179Z",
     "start_time": "2019-10-19T10:13:20.367403Z"
    }
   },
   "outputs": [
    {
     "data": {
      "text/plain": [
       "UTF-8           674\n",
       "ISO-8859-1      427\n",
       "utf-8           379\n",
       "us-ascii        155\n",
       "iso-8859-1      134\n",
       "None              7\n",
       "windows-1251      1\n",
       "windows-1252      1\n",
       "ISO-8859          1\n",
       "Name: CHARSET, dtype: int64"
      ]
     },
     "execution_count": 32,
     "metadata": {},
     "output_type": "execute_result"
    }
   ],
   "source": [
    "websites.CHARSET.value_counts()"
   ]
  },
  {
   "cell_type": "markdown",
   "metadata": {},
   "source": [
    "I don't think so..."
   ]
  },
  {
   "cell_type": "code",
   "execution_count": 33,
   "metadata": {
    "ExecuteTime": {
     "end_time": "2019-10-19T10:13:20.390932Z",
     "start_time": "2019-10-19T10:13:20.377380Z"
    }
   },
   "outputs": [],
   "source": [
    "websites.loc[websites.CHARSET == 'iso-8859-1', 'CHARSET'] = 'ISO-8859-1'"
   ]
  },
  {
   "cell_type": "code",
   "execution_count": 34,
   "metadata": {
    "ExecuteTime": {
     "end_time": "2019-10-19T10:13:20.403411Z",
     "start_time": "2019-10-19T10:13:20.393168Z"
    }
   },
   "outputs": [],
   "source": [
    "websites.loc[websites.CHARSET == 'ISO-8859', 'CHARSET'] = 'ISO-8859-1'"
   ]
  },
  {
   "cell_type": "code",
   "execution_count": 35,
   "metadata": {
    "ExecuteTime": {
     "end_time": "2019-10-19T10:13:20.416207Z",
     "start_time": "2019-10-19T10:13:20.405532Z"
    }
   },
   "outputs": [],
   "source": [
    "websites.loc[websites.CHARSET == 'utf-8', 'CHARSET'] = 'UTF-8'"
   ]
  },
  {
   "cell_type": "markdown",
   "metadata": {},
   "source": [
    "`SERVER` is a little more complicated. Print its unique values and think about how you can consolidate those values.\n",
    "\n",
    "#### Before you think of your own solution, don't read the instructions that come next."
   ]
  },
  {
   "cell_type": "code",
   "execution_count": 36,
   "metadata": {
    "ExecuteTime": {
     "end_time": "2019-10-19T10:13:20.429091Z",
     "start_time": "2019-10-19T10:13:20.418801Z"
    }
   },
   "outputs": [
    {
     "data": {
      "text/plain": [
       "Apache                                                                                                                                                                         385\n",
       "nginx                                                                                                                                                                          211\n",
       "None                                                                                                                                                                           175\n",
       "Microsoft-HTTPAPI/2.0                                                                                                                                                          113\n",
       "cloudflare-nginx                                                                                                                                                                94\n",
       "Microsoft-IIS/7.5                                                                                                                                                               51\n",
       "Server                                                                                                                                                                          49\n",
       "GSE                                                                                                                                                                             49\n",
       "YouTubeFrontEnd                                                                                                                                                                 42\n",
       "nginx/1.12.0                                                                                                                                                                    36\n",
       "ATS                                                                                                                                                                             30\n",
       "Apache/2.2.15 (CentOS)                                                                                                                                                          25\n",
       "Apache-Coyote/1.1                                                                                                                                                               20\n",
       "Microsoft-IIS/8.5                                                                                                                                                               15\n",
       "Apache/2                                                                                                                                                                        15\n",
       "Microsoft-IIS/6.0                                                                                                                                                               14\n",
       "Apache/2.4.7 (Ubuntu)                                                                                                                                                           13\n",
       "Apache/2.2.14 (FreeBSD) mod_ssl/2.2.14 OpenSSL/0.9.8y DAV/2 PHP/5.2.12 with Suhosin-Patch                                                                                       13\n",
       "Apache/2.2.15 (Red Hat)                                                                                                                                                         12\n",
       "Apache/2.2.22 (Debian)                                                                                                                                                          12\n",
       "nginx/1.8.1                                                                                                                                                                      9\n",
       "nginx/1.4.6 (Ubuntu)                                                                                                                                                             9\n",
       "nginx/1.10.1                                                                                                                                                                     8\n",
       "nginx/1.8.0                                                                                                                                                                      8\n",
       "Varnish                                                                                                                                                                          7\n",
       "Apache/2.4.25 (Amazon) OpenSSL/1.0.1k-fips                                                                                                                                       7\n",
       "Apache/2.2.31 (Amazon)                                                                                                                                                           6\n",
       "nginx/1.6.2                                                                                                                                                                      6\n",
       "Apache/2.4.25                                                                                                                                                                    6\n",
       "LiteSpeed                                                                                                                                                                        6\n",
       "nginx/1.10.1 + Phusion Passenger 5.0.30                                                                                                                                          5\n",
       "nginx/1.2.1                                                                                                                                                                      5\n",
       "nginx/1.1.19                                                                                                                                                                     5\n",
       "nginx/1.10.3                                                                                                                                                                     5\n",
       "Apache/2.4.23 (Unix) OpenSSL/1.0.1e-fips mod_bwlimited/1.4                                                                                                                       5\n",
       "Apache/2.2.22                                                                                                                                                                    5\n",
       "Apache/2.4.6 (CentOS) OpenSSL/1.0.1e-fips PHP/5.5.38                                                                                                                             4\n",
       "Apache/2.2.29 (Unix) mod_ssl/2.2.29 OpenSSL/1.0.1e-fips mod_bwlimited/1.4                                                                                                        4\n",
       "Apache/2.2.32                                                                                                                                                                    4\n",
       "Jetty(9.0.z-SNAPSHOT)                                                                                                                                                            4\n",
       "AmazonS3                                                                                                                                                                         4\n",
       "nginx/1.11.10                                                                                                                                                                    4\n",
       "Apache/2.0.52 (Red Hat)                                                                                                                                                          4\n",
       "openresty                                                                                                                                                                        4\n",
       "mw2165.codfw.wmnet                                                                                                                                                               4\n",
       "mw2239.codfw.wmnet                                                                                                                                                               4\n",
       "Apache/2.4.18 (Ubuntu)                                                                                                                                                           4\n",
       "ebay server                                                                                                                                                                      4\n",
       "nginx + Phusion Passenger                                                                                                                                                        4\n",
       "Apache/2.4.6 (CentOS)                                                                                                                                                            3\n",
       "Apache/2.2.22 (Ubuntu)                                                                                                                                                           3\n",
       "Apache/2.2.27 (CentOS)                                                                                                                                                           3\n",
       "Apache/2.2.31 (CentOS)                                                                                                                                                           3\n",
       "openresty/1.11.2.1                                                                                                                                                               3\n",
       "Apache/2.2.15 (CentOS) DAV/2 mod_ssl/2.2.15 OpenSSL/1.0.1e-fips PHP/5.3.3                                                                                                        3\n",
       "Microsoft-IIS/7.0                                                                                                                                                                3\n",
       "Apache/2.2.3 (CentOS)                                                                                                                                                            3\n",
       "Apache/2.4                                                                                                                                                                       3\n",
       "nginx/1.11.3                                                                                                                                                                     3\n",
       "mw2228.codfw.wmnet                                                                                                                                                               3\n",
       "Pizza/pepperoni                                                                                                                                                                  3\n",
       "DOSarrest                                                                                                                                                                        3\n",
       "mw2224.codfw.wmnet                                                                                                                                                               2\n",
       "Apache/2.2.13 (Unix) mod_ssl/2.2.13 OpenSSL/0.9.8e-fips-rhel5 mod_auth_passthrough/2.1 mod_bwlimited/1.4 PHP/5.2.10                                                              2\n",
       "ATS/5.3.0                                                                                                                                                                        2\n",
       "DMS/1.0.42                                                                                                                                                                       2\n",
       "Sucuri/Cloudproxy                                                                                                                                                                2\n",
       "Pagely Gateway/1.5.1                                                                                                                                                             2\n",
       "mw2242.codfw.wmnet                                                                                                                                                               2\n",
       "mw2175.codfw.wmnet                                                                                                                                                               2\n",
       "Squeegit/1.2.5 (3_sir)                                                                                                                                                           2\n",
       "nginx/1.9.13                                                                                                                                                                     2\n",
       "Apache/2.4.10 (Debian)                                                                                                                                                           2\n",
       "Apache/2.2.29 (Amazon)                                                                                                                                                           2\n",
       "nginx/1.6.3 + Phusion Passenger                                                                                                                                                  2\n",
       "AkamaiGHost                                                                                                                                                                      2\n",
       "Roxen/5.4.98-r2                                                                                                                                                                  2\n",
       "Oracle-iPlanet-Web-Server/7.0                                                                                                                                                    2\n",
       "nginx/1.10.0                                                                                                                                                                     2\n",
       "Apache/2.2.31 (Unix) mod_ssl/2.2.31 OpenSSL/1.0.1e-fips mod_bwlimited/1.4 mod_fcgid/2.3.9                                                                                        2\n",
       "Apache/2.4.6                                                                                                                                                                     2\n",
       "mw2101.codfw.wmnet                                                                                                                                                               2\n",
       "Apache/2.4.6 (CentOS) OpenSSL/1.0.1e-fips PHP/5.4.16                                                                                                                             2\n",
       "mw2164.codfw.wmnet                                                                                                                                                               2\n",
       "Apache/2.4.25 (cPanel) OpenSSL/1.0.1e-fips mod_bwlimited/1.4                                                                                                                     2\n",
       "HTTPDaemon                                                                                                                                                                       2\n",
       "mw2230.codfw.wmnet                                                                                                                                                               2\n",
       "Apache/2.4.12 (Unix) OpenSSL/1.0.1e-fips mod_bwlimited/1.4                                                                                                                       2\n",
       "tsa_c                                                                                                                                                                            2\n",
       "squid/3.3.8                                                                                                                                                                      2\n",
       "nginx/1.13.0                                                                                                                                                                     2\n",
       "Pepyaka/1.11.3                                                                                                                                                                   2\n",
       "Apache/2.2.26 (Unix) mod_ssl/2.2.26 OpenSSL/0.9.8e-fips-rhel5 mod_bwlimited/1.4 PHP/5.4.26                                                                                       2\n",
       "mw2192.codfw.wmnet                                                                                                                                                               2\n",
       "nginx/1.11.2                                                                                                                                                                     2\n",
       "Apache/2.2.29 (Unix) mod_ssl/2.2.29 OpenSSL/1.0.1e-fips mod_bwlimited/1.4 PHP/5.4.35                                                                                             2\n",
       "mw2255.codfw.wmnet                                                                                                                                                               2\n",
       "Apache/2.4.16 (Ubuntu)                                                                                                                                                           1\n",
       "Apache/1.3.33 (Unix) mod_ssl/2.8.24 OpenSSL/0.9.7e-p1 PHP/4.4.8                                                                                                                  1\n",
       "CherryPy/3.6.0                                                                                                                                                                   1\n",
       "Proxy Pandeiro UOL                                                                                                                                                               1\n",
       "Sun-ONE-Web-Server/6.1                                                                                                                                                           1\n",
       "Apache/2.4.12 (Ubuntu)                                                                                                                                                           1\n",
       "Apache/2.4.6 (CentOS) mod_fcgid/2.3.9 PHP/5.6.30                                                                                                                                 1\n",
       "mw2225.codfw.wmnet                                                                                                                                                               1\n",
       "mw2199.codfw.wmnet                                                                                                                                                               1\n",
       "Resin/3.1.8                                                                                                                                                                      1\n",
       "lighttpd/1.4.28                                                                                                                                                                  1\n",
       "Apache/2.4.25 (FreeBSD) OpenSSL/1.0.1s-freebsd PHP/5.6.30                                                                                                                        1\n",
       "Apache/2.2.14 (Unix) mod_ssl/2.2.14 OpenSSL/0.9.8e-fips-rhel5                                                                                                                    1\n",
       "Apache/2.2.16 (Unix) mod_ssl/2.2.16 OpenSSL/0.9.8e-fips-rhel5 mod_auth_passthrough/2.1 mod_bwlimited/1.4                                                                         1\n",
       "Microsoft-IIS/7.5; litigation_essentials.lexisnexis.com  9999                                                                                                                    1\n",
       "Apache/2.4.6 (Unix) mod_jk/1.2.37 PHP/5.5.1 OpenSSL/1.0.1g mod_fcgid/2.3.9                                                                                                       1\n",
       "gunicorn/19.7.1                                                                                                                                                                  1\n",
       "Apache/2.2.11 (Unix) PHP/5.2.6                                                                                                                                                   1\n",
       "Apache/2.4.25 (Unix) OpenSSL/1.0.1e-fips mod_bwlimited/1.4                                                                                                                       1\n",
       "Apache/2.2.16 (Debian)                                                                                                                                                           1\n",
       "nginx/1.4.3                                                                                                                                                                      1\n",
       "mw2171.codfw.wmnet                                                                                                                                                               1\n",
       "lighttpd                                                                                                                                                                         1\n",
       "Apache/2.2.31 (Unix) mod_ssl/2.2.31 OpenSSL/1.0.1e-fips mod_bwlimited/1.4 mod_perl/2.0.8 Perl/v5.10.1                                                                            1\n",
       "294                                                                                                                                                                              1\n",
       "mw2187.codfw.wmnet                                                                                                                                                               1\n",
       "www.lexisnexis.com  9999                                                                                                                                                         1\n",
       "mw2241.codfw.wmnet                                                                                                                                                               1\n",
       "nginx/0.8.55                                                                                                                                                                     1\n",
       "Apache/1.3.34 (Unix) PHP/4.4.4                                                                                                                                                   1\n",
       "mw2257.codfw.wmnet                                                                                                                                                               1\n",
       "Play                                                                                                                                                                             1\n",
       "openresty/1.11.2.2                                                                                                                                                               1\n",
       "mw2178.codfw.wmnet                                                                                                                                                               1\n",
       "Apache/2.4.6 (CentOS) OpenSSL/1.0.1e-fips                                                                                                                                        1\n",
       "SSWS                                                                                                                                                                             1\n",
       "mw2176.codfw.wmnet                                                                                                                                                               1\n",
       "mw2180.codfw.wmnet                                                                                                                                                               1\n",
       "mw2238.codfw.wmnet                                                                                                                                                               1\n",
       "mw2231.codfw.wmnet                                                                                                                                                               1\n",
       "DPS/1.1.8                                                                                                                                                                        1\n",
       "Nginx (OpenBSD)                                                                                                                                                                  1\n",
       "Apache/2.2.26 (Unix) mod_ssl/2.2.26 OpenSSL/1.0.1e-fips DAV/2 mod_bwlimited/1.4                                                                                                  1\n",
       "XXXXXXXXXXXXXXXXXXXXXX                                                                                                                                                           1\n",
       "Apache/2.2.31 (Unix) mod_ssl/2.2.31 OpenSSL/1.0.1e-fips mod_bwlimited/1.4                                                                                                        1\n",
       "mw2236.codfw.wmnet                                                                                                                                                               1\n",
       "nginx/1.7.4                                                                                                                                                                      1\n",
       "IdeaWebServer/v0.80                                                                                                                                                              1\n",
       "mw2226.codfw.wmnet                                                                                                                                                               1\n",
       "nxfps                                                                                                                                                                            1\n",
       "nginx/1.4.4                                                                                                                                                                      1\n",
       "Apache/2.4.18 (Unix) OpenSSL/1.0.2e Communique/4.1.10                                                                                                                            1\n",
       "Apache/2.4.6 (CentOS) OpenSSL/1.0.1e-fips PHP/5.4.16 mod_apreq2-20090110/2.8.0 mod_perl/2.0.10 Perl/v5.24.1                                                                      1\n",
       "Apache/2.2.3 (Red Hat)                                                                                                                                                           1\n",
       "nginx/1.10.0 (Ubuntu)                                                                                                                                                            1\n",
       "Scratch Web Server                                                                                                                                                               1\n",
       "Tengine                                                                                                                                                                          1\n",
       "MediaFire                                                                                                                                                                        1\n",
       "Apache/2.4.10 (Debian) PHP/5.6.30-0+deb8u1 mod_perl/2.0.9dev Perl/v5.20.2                                                                                                        1\n",
       "nginx/0.7.65                                                                                                                                                                     1\n",
       "mw2104.codfw.wmnet                                                                                                                                                               1\n",
       "mw2173.codfw.wmnet                                                                                                                                                               1\n",
       "Heptu web server                                                                                                                                                                 1\n",
       "mw2233.codfw.wmnet                                                                                                                                                               1\n",
       "marrakesh 1.12.2                                                                                                                                                                 1\n",
       "nginx/1.10.2                                                                                                                                                                     1\n",
       "Cowboy                                                                                                                                                                           1\n",
       "mw2190.codfw.wmnet                                                                                                                                                               1\n",
       "Apache/2.2.14 (Unix) mod_ssl/2.2.14 OpenSSL/0.9.8a                                                                                                                               1\n",
       "Apache/2.2.21 (Unix) mod_ssl/2.2.21 OpenSSL/0.9.8e-fips-rhel5 PHP/5.3.10                                                                                                         1\n",
       "Aeria Games & Entertainment                                                                                                                                                      1\n",
       "nginx/0.8.35                                                                                                                                                                     1\n",
       "fbs                                                                                                                                                                              1\n",
       "Apache/2.4.10                                                                                                                                                                    1\n",
       "Application-Server                                                                                                                                                               1\n",
       "Apache/2.2.31 (Unix) mod_ssl/2.2.31 OpenSSL/0.9.8e-fips-rhel5 mod_bwlimited/1.4                                                                                                  1\n",
       "Apache/1.3.39 (Unix) PHP/5.2.5 mod_auth_passthrough/1.8 mod_bwlimited/1.4 mod_log_bytes/1.2 mod_gzip/1.3.26.1a FrontPage/5.0.2.2635 DAV/1.0.3 mod_ssl/2.8.30 OpenSSL/0.9.7a      1\n",
       "Apache/2.2.20 (Unix)                                                                                                                                                             1\n",
       "Apache/2.2.27 (Unix) OpenAM Web Agent/4.0.1-1 mod_ssl/2.2.27 OpenSSL/1.0.1p PHP/5.3.28                                                                                           1\n",
       "mw2172.codfw.wmnet                                                                                                                                                               1\n",
       "nginx/0.8.54                                                                                                                                                                     1\n",
       "mw2177.codfw.wmnet                                                                                                                                                               1\n",
       "PWS/8.2.0.7                                                                                                                                                                      1\n",
       "mw2232.codfw.wmnet                                                                                                                                                               1\n",
       "Apache/1.3.42 Ben-SSL/1.60 (Unix) mod_gzip/1.3.26.1a mod_fastcgi/2.4.6 mod_throttle/3.1.2 Chili!Soft-ASP/3.6.2 FrontPage/5.0.2.2635 mod_perl/1.31 PHP/4.4.9                      1\n",
       "mw2110.codfw.wmnet                                                                                                                                                               1\n",
       "Apache/2.2.10 (Linux/SUSE)                                                                                                                                                       1\n",
       "mw2106.codfw.wmnet                                                                                                                                                               1\n",
       "Apache/2.4.6 (Red Hat Enterprise Linux) OpenSSL/1.0.1e-fips mod_fcgid/2.3.9 Communique/4.2.0                                                                                     1\n",
       "Apache/Not telling (Unix) AuthTDS/1.1                                                                                                                                            1\n",
       "MI                                                                                                                                                                               1\n",
       "KHL                                                                                                                                                                              1\n",
       "nginx/1.7.12                                                                                                                                                                     1\n",
       "Apache/1.3.31 (Unix) PHP/4.3.9 mod_perl/1.29 rus/PL30.20                                                                                                                         1\n",
       "Apache/2.4.25 (Debian)                                                                                                                                                           1\n",
       "Apache/2.2.31 (FreeBSD) PHP/5.4.15 mod_ssl/2.2.31 OpenSSL/1.0.2d DAV/2                                                                                                           1\n",
       "mw2107.codfw.wmnet                                                                                                                                                               1\n",
       "Apache/2.0.63 (Unix) mod_ssl/2.0.63 OpenSSL/0.9.8e-fips-rhel5 mod_auth_passthrough/2.1 mod_bwlimited/1.4 PHP/5.3.6                                                               1\n",
       "nginx/1.6.3                                                                                                                                                                      1\n",
       "mw2113.codfw.wmnet                                                                                                                                                               1\n",
       "nginx/0.8.38                                                                                                                                                                     1\n",
       "Apache/2.2.24 (Unix) DAV/2 PHP/5.3.26 mod_ssl/2.2.24 OpenSSL/0.9.8y                                                                                                              1\n",
       "mw2240.codfw.wmnet                                                                                                                                                               1\n",
       "Apache/2.2.23 (Amazon)                                                                                                                                                           1\n",
       "My Arse                                                                                                                                                                          1\n",
       "Apache/2.2.29 (Unix) mod_ssl/2.2.29 OpenSSL/1.0.1e-fips DAV/2 mod_bwlimited/1.4                                                                                                  1\n",
       "Boston.com Frontend                                                                                                                                                              1\n",
       "Apache/2.4.18 (Unix) OpenSSL/0.9.8e-fips-rhel5 mod_bwlimited/1.4                                                                                                                 1\n",
       "Apache/2.4.6 (CentOS) PHP/5.6.8                                                                                                                                                  1\n",
       "Apache/2.4.25 (Amazon) PHP/7.0.14                                                                                                                                                1\n",
       "mw2114.codfw.wmnet                                                                                                                                                               1\n",
       "Apache/2.2.25 (Unix) mod_ssl/2.2.25 OpenSSL/0.9.8e-fips-rhel5 mod_bwlimited/1.4                                                                                                  1\n",
       "Apache/2.2.22 (Debian) mod_python/3.3.1 Python/2.7.3 mod_ssl/2.2.22 OpenSSL/1.0.1t                                                                                               1\n",
       "nginx/1.2.6                                                                                                                                                                      1\n",
       "Apache/1.3.27 (Unix) PHP/4.4.1                                                                                                                                                   1\n",
       "mw2182.codfw.wmnet                                                                                                                                                               1\n",
       "Zope/(2.13.16; python 2.6.8; linux2) ZServer/1.1                                                                                                                                 1\n",
       "Apache/2.2.14 (Ubuntu)                                                                                                                                                           1\n",
       ".V01 Apache                                                                                                                                                                      1\n",
       "Microsoft-IIS/8.0                                                                                                                                                                1\n",
       "ECD (fll/0790)                                                                                                                                                                   1\n",
       "mw2198.codfw.wmnet                                                                                                                                                               1\n",
       "mw2097.codfw.wmnet                                                                                                                                                               1\n",
       "mw2185.codfw.wmnet                                                                                                                                                               1\n",
       "Virtuoso/07.20.3217 (Linux) i686-generic-linux-glibc212-64  VDB                                                                                                                  1\n",
       "barista/5.1.3                                                                                                                                                                    1\n",
       "mw2109.codfw.wmnet                                                                                                                                                               1\n",
       "Apache/2.4.23 (Unix)                                                                                                                                                             1\n",
       "Apache/2.4.23 (Unix) OpenSSL/0.9.8e-fips-rhel5 mod_bwlimited/1.4                                                                                                                 1\n",
       "Apache/2.4.10 (Ubuntu)                                                                                                                                                           1\n",
       "Yippee-Ki-Yay                                                                                                                                                                    1\n",
       "Apache/1.3.27 (Unix)  (Red-Hat/Linux) mod_perl/1.26 PHP/4.3.3 FrontPage/5.0.2 mod_ssl/2.8.12 OpenSSL/0.9.6b                                                                      1\n",
       "Apache/2.4.10 (Unix) OpenSSL/1.0.1k                                                                                                                                              1\n",
       "Apache/2.4.6 (Unix) mod_jk/1.2.37                                                                                                                                                1\n",
       "Apache/2.4.6 (CentOS) OpenSSL/1.0.1e-fips PHP/7.0.14                                                                                                                             1\n",
       "Apache/2.4.6 (CentOS) OpenSSL/1.0.1e-fips mod_fcgid/2.3.9 PHP/5.4.16 mod_jk/1.2.40                                                                                               1\n",
       "Apache/2.4.17 (Unix) OpenSSL/1.0.1e-fips PHP/5.6.19                                                                                                                              1\n",
       "mw2197.codfw.wmnet                                                                                                                                                               1\n",
       "Apache/1.3.37 (Unix) mod_perl/1.29 mod_ssl/2.8.28 OpenSSL/0.9.7e-p1                                                                                                              1\n",
       "mw2260.codfw.wmnet                                                                                                                                                               1\n",
       "Apache/2.2.0 (Fedora)                                                                                                                                                            1\n",
       "mw2103.codfw.wmnet                                                                                                                                                               1\n",
       "Name: SERVER, dtype: int64"
      ]
     },
     "execution_count": 36,
     "metadata": {},
     "output_type": "execute_result"
    }
   ],
   "source": [
    "websites.SERVER.value_counts()"
   ]
  },
  {
   "cell_type": "markdown",
   "metadata": {},
   "source": [
    "* SERVER: A lot of different values, although many Apache, nginx and Microsoft, with different versions. I think the column could be simplified or grouped into an 'other' group"
   ]
  },
  {
   "cell_type": "markdown",
   "metadata": {},
   "source": [
    "![Think Hard](../images/think-hard.jpg)"
   ]
  },
  {
   "cell_type": "markdown",
   "metadata": {},
   "source": [
    "Although there are so many unique values in the `SERVER` column, there are actually only 3 main server types: `Microsoft`, `Apache`, and `nginx`. Just check if each `SERVER` value contains any of those server types and re-label them. For `SERVER` values that don't contain any of those substrings, label with `Other`.\n",
    "\n",
    "At the end, your `SERVER` column should only contain 4 unique values: `Microsoft`, `Apache`, `nginx`, and `Other`."
   ]
  },
  {
   "cell_type": "code",
   "execution_count": 37,
   "metadata": {
    "ExecuteTime": {
     "end_time": "2019-10-19T10:13:20.435454Z",
     "start_time": "2019-10-19T10:13:20.431441Z"
    }
   },
   "outputs": [],
   "source": [
    "def server_change(string):\n",
    "    if 'Microsoft' in string:\n",
    "        return 'Microsoft'\n",
    "    elif 'Apache' in string:\n",
    "        return 'Apache'\n",
    "    elif 'nginx' in string:\n",
    "        return 'nginx'\n",
    "    else:\n",
    "        return 'Other'"
   ]
  },
  {
   "cell_type": "code",
   "execution_count": 38,
   "metadata": {
    "ExecuteTime": {
     "end_time": "2019-10-19T10:13:20.442546Z",
     "start_time": "2019-10-19T10:13:20.438105Z"
    }
   },
   "outputs": [],
   "source": [
    "websites.SERVER = websites.SERVER.apply(server_change)"
   ]
  },
  {
   "cell_type": "code",
   "execution_count": 39,
   "metadata": {
    "ExecuteTime": {
     "end_time": "2019-10-19T10:13:20.451471Z",
     "start_time": "2019-10-19T10:13:20.444983Z"
    },
    "scrolled": false
   },
   "outputs": [
    {
     "data": {
      "text/plain": [
       "Apache       642\n",
       "Other        504\n",
       "nginx        435\n",
       "Microsoft    198\n",
       "Name: SERVER, dtype: int64"
      ]
     },
     "execution_count": 39,
     "metadata": {},
     "output_type": "execute_result"
    }
   ],
   "source": [
    "websites.SERVER.value_counts()"
   ]
  },
  {
   "cell_type": "markdown",
   "metadata": {},
   "source": [
    "OK, all our categorical data are fixed now. **Let's convert them to ordinal data using Pandas' `get_dummies` function ([documentation](https://pandas.pydata.org/pandas-docs/stable/generated/pandas.get_dummies.html)).** Make sure you drop the categorical columns by passing `drop_first=True` to `get_dummies` as we don't need them any more. **Also, assign the data with dummy values to a new variable `website_dummy`.**"
   ]
  },
  {
   "cell_type": "code",
   "execution_count": 40,
   "metadata": {
    "ExecuteTime": {
     "end_time": "2019-10-19T10:13:20.477708Z",
     "start_time": "2019-10-19T10:13:20.454472Z"
    }
   },
   "outputs": [],
   "source": [
    "website_dummy = pd.get_dummies(websites, drop_first=True)"
   ]
  },
  {
   "cell_type": "markdown",
   "metadata": {},
   "source": [
    "Now, inspect `website_dummy` to make sure the data and types are intended - there shouldn't be any categorical columns at this point."
   ]
  },
  {
   "cell_type": "code",
   "execution_count": 41,
   "metadata": {
    "ExecuteTime": {
     "end_time": "2019-10-19T10:13:20.496608Z",
     "start_time": "2019-10-19T10:13:20.479433Z"
    }
   },
   "outputs": [
    {
     "data": {
      "text/html": [
       "<div>\n",
       "<style scoped>\n",
       "    .dataframe tbody tr th:only-of-type {\n",
       "        vertical-align: middle;\n",
       "    }\n",
       "\n",
       "    .dataframe tbody tr th {\n",
       "        vertical-align: top;\n",
       "    }\n",
       "\n",
       "    .dataframe thead th {\n",
       "        text-align: right;\n",
       "    }\n",
       "</style>\n",
       "<table border=\"1\" class=\"dataframe\">\n",
       "  <thead>\n",
       "    <tr style=\"text-align: right;\">\n",
       "      <th></th>\n",
       "      <th>URL_LENGTH</th>\n",
       "      <th>TCP_CONVERSATION_EXCHANGE</th>\n",
       "      <th>DIST_REMOTE_TCP_PORT</th>\n",
       "      <th>REMOTE_IPS</th>\n",
       "      <th>APP_BYTES</th>\n",
       "      <th>SOURCE_APP_BYTES</th>\n",
       "      <th>DNS_QUERY_TIMES</th>\n",
       "      <th>Type</th>\n",
       "      <th>CHARSET_None</th>\n",
       "      <th>CHARSET_UTF-8</th>\n",
       "      <th>CHARSET_us-ascii</th>\n",
       "      <th>CHARSET_windows-1251</th>\n",
       "      <th>CHARSET_windows-1252</th>\n",
       "      <th>SERVER_Microsoft</th>\n",
       "      <th>SERVER_Other</th>\n",
       "      <th>SERVER_nginx</th>\n",
       "      <th>WHOIS_COUNTRY_CA</th>\n",
       "      <th>WHOIS_COUNTRY_CN</th>\n",
       "      <th>WHOIS_COUNTRY_ES</th>\n",
       "      <th>WHOIS_COUNTRY_IN</th>\n",
       "      <th>WHOIS_COUNTRY_JP</th>\n",
       "      <th>WHOIS_COUNTRY_None</th>\n",
       "      <th>WHOIS_COUNTRY_OTHER</th>\n",
       "      <th>WHOIS_COUNTRY_PA</th>\n",
       "      <th>WHOIS_COUNTRY_UK</th>\n",
       "      <th>WHOIS_COUNTRY_US</th>\n",
       "    </tr>\n",
       "  </thead>\n",
       "  <tbody>\n",
       "    <tr>\n",
       "      <th>0</th>\n",
       "      <td>16</td>\n",
       "      <td>7</td>\n",
       "      <td>0</td>\n",
       "      <td>2</td>\n",
       "      <td>700</td>\n",
       "      <td>1153</td>\n",
       "      <td>2.0</td>\n",
       "      <td>1</td>\n",
       "      <td>0</td>\n",
       "      <td>0</td>\n",
       "      <td>0</td>\n",
       "      <td>0</td>\n",
       "      <td>0</td>\n",
       "      <td>0</td>\n",
       "      <td>0</td>\n",
       "      <td>1</td>\n",
       "      <td>0</td>\n",
       "      <td>0</td>\n",
       "      <td>0</td>\n",
       "      <td>0</td>\n",
       "      <td>0</td>\n",
       "      <td>1</td>\n",
       "      <td>0</td>\n",
       "      <td>0</td>\n",
       "      <td>0</td>\n",
       "      <td>0</td>\n",
       "    </tr>\n",
       "    <tr>\n",
       "      <th>1</th>\n",
       "      <td>16</td>\n",
       "      <td>17</td>\n",
       "      <td>7</td>\n",
       "      <td>4</td>\n",
       "      <td>1230</td>\n",
       "      <td>1265</td>\n",
       "      <td>0.0</td>\n",
       "      <td>0</td>\n",
       "      <td>0</td>\n",
       "      <td>1</td>\n",
       "      <td>0</td>\n",
       "      <td>0</td>\n",
       "      <td>0</td>\n",
       "      <td>0</td>\n",
       "      <td>0</td>\n",
       "      <td>0</td>\n",
       "      <td>0</td>\n",
       "      <td>0</td>\n",
       "      <td>0</td>\n",
       "      <td>0</td>\n",
       "      <td>0</td>\n",
       "      <td>1</td>\n",
       "      <td>0</td>\n",
       "      <td>0</td>\n",
       "      <td>0</td>\n",
       "      <td>0</td>\n",
       "    </tr>\n",
       "    <tr>\n",
       "      <th>2</th>\n",
       "      <td>16</td>\n",
       "      <td>0</td>\n",
       "      <td>0</td>\n",
       "      <td>0</td>\n",
       "      <td>0</td>\n",
       "      <td>0</td>\n",
       "      <td>0.0</td>\n",
       "      <td>0</td>\n",
       "      <td>0</td>\n",
       "      <td>0</td>\n",
       "      <td>1</td>\n",
       "      <td>0</td>\n",
       "      <td>0</td>\n",
       "      <td>1</td>\n",
       "      <td>0</td>\n",
       "      <td>0</td>\n",
       "      <td>0</td>\n",
       "      <td>0</td>\n",
       "      <td>0</td>\n",
       "      <td>0</td>\n",
       "      <td>0</td>\n",
       "      <td>1</td>\n",
       "      <td>0</td>\n",
       "      <td>0</td>\n",
       "      <td>0</td>\n",
       "      <td>0</td>\n",
       "    </tr>\n",
       "    <tr>\n",
       "      <th>3</th>\n",
       "      <td>17</td>\n",
       "      <td>31</td>\n",
       "      <td>22</td>\n",
       "      <td>3</td>\n",
       "      <td>3812</td>\n",
       "      <td>18784</td>\n",
       "      <td>8.0</td>\n",
       "      <td>0</td>\n",
       "      <td>0</td>\n",
       "      <td>0</td>\n",
       "      <td>0</td>\n",
       "      <td>0</td>\n",
       "      <td>0</td>\n",
       "      <td>0</td>\n",
       "      <td>0</td>\n",
       "      <td>1</td>\n",
       "      <td>0</td>\n",
       "      <td>0</td>\n",
       "      <td>0</td>\n",
       "      <td>0</td>\n",
       "      <td>0</td>\n",
       "      <td>0</td>\n",
       "      <td>0</td>\n",
       "      <td>0</td>\n",
       "      <td>0</td>\n",
       "      <td>1</td>\n",
       "    </tr>\n",
       "    <tr>\n",
       "      <th>4</th>\n",
       "      <td>17</td>\n",
       "      <td>57</td>\n",
       "      <td>2</td>\n",
       "      <td>5</td>\n",
       "      <td>4278</td>\n",
       "      <td>129889</td>\n",
       "      <td>4.0</td>\n",
       "      <td>0</td>\n",
       "      <td>0</td>\n",
       "      <td>1</td>\n",
       "      <td>0</td>\n",
       "      <td>0</td>\n",
       "      <td>0</td>\n",
       "      <td>0</td>\n",
       "      <td>1</td>\n",
       "      <td>0</td>\n",
       "      <td>0</td>\n",
       "      <td>0</td>\n",
       "      <td>0</td>\n",
       "      <td>0</td>\n",
       "      <td>0</td>\n",
       "      <td>0</td>\n",
       "      <td>0</td>\n",
       "      <td>0</td>\n",
       "      <td>0</td>\n",
       "      <td>1</td>\n",
       "    </tr>\n",
       "  </tbody>\n",
       "</table>\n",
       "</div>"
      ],
      "text/plain": [
       "   URL_LENGTH  TCP_CONVERSATION_EXCHANGE  DIST_REMOTE_TCP_PORT  REMOTE_IPS  \\\n",
       "0          16                          7                     0           2   \n",
       "1          16                         17                     7           4   \n",
       "2          16                          0                     0           0   \n",
       "3          17                         31                    22           3   \n",
       "4          17                         57                     2           5   \n",
       "\n",
       "   APP_BYTES  SOURCE_APP_BYTES  DNS_QUERY_TIMES  Type  CHARSET_None  \\\n",
       "0        700              1153              2.0     1             0   \n",
       "1       1230              1265              0.0     0             0   \n",
       "2          0                 0              0.0     0             0   \n",
       "3       3812             18784              8.0     0             0   \n",
       "4       4278            129889              4.0     0             0   \n",
       "\n",
       "   CHARSET_UTF-8  CHARSET_us-ascii  CHARSET_windows-1251  \\\n",
       "0              0                 0                     0   \n",
       "1              1                 0                     0   \n",
       "2              0                 1                     0   \n",
       "3              0                 0                     0   \n",
       "4              1                 0                     0   \n",
       "\n",
       "   CHARSET_windows-1252  SERVER_Microsoft  SERVER_Other  SERVER_nginx  \\\n",
       "0                     0                 0             0             1   \n",
       "1                     0                 0             0             0   \n",
       "2                     0                 1             0             0   \n",
       "3                     0                 0             0             1   \n",
       "4                     0                 0             1             0   \n",
       "\n",
       "   WHOIS_COUNTRY_CA  WHOIS_COUNTRY_CN  WHOIS_COUNTRY_ES  WHOIS_COUNTRY_IN  \\\n",
       "0                 0                 0                 0                 0   \n",
       "1                 0                 0                 0                 0   \n",
       "2                 0                 0                 0                 0   \n",
       "3                 0                 0                 0                 0   \n",
       "4                 0                 0                 0                 0   \n",
       "\n",
       "   WHOIS_COUNTRY_JP  WHOIS_COUNTRY_None  WHOIS_COUNTRY_OTHER  \\\n",
       "0                 0                   1                    0   \n",
       "1                 0                   1                    0   \n",
       "2                 0                   1                    0   \n",
       "3                 0                   0                    0   \n",
       "4                 0                   0                    0   \n",
       "\n",
       "   WHOIS_COUNTRY_PA  WHOIS_COUNTRY_UK  WHOIS_COUNTRY_US  \n",
       "0                 0                 0                 0  \n",
       "1                 0                 0                 0  \n",
       "2                 0                 0                 0  \n",
       "3                 0                 0                 1  \n",
       "4                 0                 0                 1  "
      ]
     },
     "execution_count": 41,
     "metadata": {},
     "output_type": "execute_result"
    }
   ],
   "source": [
    "website_dummy.head()"
   ]
  },
  {
   "cell_type": "code",
   "execution_count": 42,
   "metadata": {
    "ExecuteTime": {
     "end_time": "2019-10-19T10:13:20.502678Z",
     "start_time": "2019-10-19T10:13:20.498328Z"
    }
   },
   "outputs": [
    {
     "data": {
      "text/plain": [
       "URL_LENGTH                     int64\n",
       "TCP_CONVERSATION_EXCHANGE      int64\n",
       "DIST_REMOTE_TCP_PORT           int64\n",
       "REMOTE_IPS                     int64\n",
       "APP_BYTES                      int64\n",
       "SOURCE_APP_BYTES               int64\n",
       "DNS_QUERY_TIMES              float64\n",
       "Type                           int64\n",
       "CHARSET_None                   uint8\n",
       "CHARSET_UTF-8                  uint8\n",
       "CHARSET_us-ascii               uint8\n",
       "CHARSET_windows-1251           uint8\n",
       "CHARSET_windows-1252           uint8\n",
       "SERVER_Microsoft               uint8\n",
       "SERVER_Other                   uint8\n",
       "SERVER_nginx                   uint8\n",
       "WHOIS_COUNTRY_CA               uint8\n",
       "WHOIS_COUNTRY_CN               uint8\n",
       "WHOIS_COUNTRY_ES               uint8\n",
       "WHOIS_COUNTRY_IN               uint8\n",
       "WHOIS_COUNTRY_JP               uint8\n",
       "WHOIS_COUNTRY_None             uint8\n",
       "WHOIS_COUNTRY_OTHER            uint8\n",
       "WHOIS_COUNTRY_PA               uint8\n",
       "WHOIS_COUNTRY_UK               uint8\n",
       "WHOIS_COUNTRY_US               uint8\n",
       "dtype: object"
      ]
     },
     "execution_count": 42,
     "metadata": {},
     "output_type": "execute_result"
    }
   ],
   "source": [
    "website_dummy.dtypes"
   ]
  },
  {
   "cell_type": "code",
   "execution_count": 65,
   "metadata": {
    "ExecuteTime": {
     "end_time": "2019-10-19T10:16:02.403437Z",
     "start_time": "2019-10-19T10:16:02.396513Z"
    }
   },
   "outputs": [
    {
     "data": {
      "text/plain": [
       "0    0.878583\n",
       "1    0.121417\n",
       "Name: Type, dtype: float64"
      ]
     },
     "execution_count": 65,
     "metadata": {},
     "output_type": "execute_result"
    }
   ],
   "source": [
    "website_dummy.Type.value_counts(normalize=True)"
   ]
  },
  {
   "cell_type": "markdown",
   "metadata": {},
   "source": [
    "# Challenge 6 - Modeling, Prediction, and Evaluation\n",
    "\n",
    "We'll start off this section by splitting the data to train and test. **Name your 4 variables `X_train`, `X_test`, `y_train`, and `y_test`. Select 80% of the data for training and 20% for testing.**"
   ]
  },
  {
   "cell_type": "code",
   "execution_count": 43,
   "metadata": {
    "ExecuteTime": {
     "end_time": "2019-10-19T10:13:20.508631Z",
     "start_time": "2019-10-19T10:13:20.504258Z"
    }
   },
   "outputs": [],
   "source": [
    "website_X = website_dummy[[col for col in list(website_dummy.columns.values) if col != 'Type']]\n",
    "website_y = website_dummy['Type'] "
   ]
  },
  {
   "cell_type": "code",
   "execution_count": 44,
   "metadata": {
    "ExecuteTime": {
     "end_time": "2019-10-19T10:13:20.581560Z",
     "start_time": "2019-10-19T10:13:20.510089Z"
    }
   },
   "outputs": [],
   "source": [
    "from sklearn.model_selection import train_test_split\n",
    "\n",
    "# Your code here:\n",
    "X_train, X_test, y_train, y_test = train_test_split(website_X, website_y, test_size=0.2, random_state=42)"
   ]
  },
  {
   "cell_type": "markdown",
   "metadata": {},
   "source": [
    "#### In this lab, we will try two different models and compare our results.\n",
    "\n",
    "The first model we will use in this lab is logistic regression. We have previously learned about logistic regression as a classification algorithm. In the cell below, load `LogisticRegression` from scikit-learn and initialize the model."
   ]
  },
  {
   "cell_type": "code",
   "execution_count": 45,
   "metadata": {
    "ExecuteTime": {
     "end_time": "2019-10-19T10:13:20.602692Z",
     "start_time": "2019-10-19T10:13:20.583652Z"
    }
   },
   "outputs": [],
   "source": [
    "from sklearn.linear_model import LogisticRegression\n",
    "logreg = LogisticRegression(solver='lbfgs', max_iter=175)"
   ]
  },
  {
   "cell_type": "markdown",
   "metadata": {},
   "source": [
    "Next, fit the model to our training data. We have already separated our data into 4 parts. Use those in your model."
   ]
  },
  {
   "cell_type": "code",
   "execution_count": 46,
   "metadata": {
    "ExecuteTime": {
     "end_time": "2019-10-19T10:13:20.743640Z",
     "start_time": "2019-10-19T10:13:20.604912Z"
    }
   },
   "outputs": [
    {
     "name": "stderr",
     "output_type": "stream",
     "text": [
      "/home/eiroamd/.local/lib/python3.6/site-packages/sklearn/linear_model/logistic.py:947: ConvergenceWarning: lbfgs failed to converge. Increase the number of iterations.\n",
      "  \"of iterations.\", ConvergenceWarning)\n"
     ]
    },
    {
     "data": {
      "text/plain": [
       "LogisticRegression(C=1.0, class_weight=None, dual=False, fit_intercept=True,\n",
       "                   intercept_scaling=1, l1_ratio=None, max_iter=175,\n",
       "                   multi_class='warn', n_jobs=None, penalty='l2',\n",
       "                   random_state=None, solver='lbfgs', tol=0.0001, verbose=0,\n",
       "                   warm_start=False)"
      ]
     },
     "execution_count": 46,
     "metadata": {},
     "output_type": "execute_result"
    }
   ],
   "source": [
    "model = logreg.fit(X_train, y_train)\n",
    "model"
   ]
  },
  {
   "cell_type": "markdown",
   "metadata": {},
   "source": [
    "finally, import `confusion_matrix` and `accuracy_score` from `sklearn.metrics` and fit our testing data. Assign the fitted data to `y_pred` and print the confusion matrix as well as the accuracy score"
   ]
  },
  {
   "cell_type": "code",
   "execution_count": 47,
   "metadata": {
    "ExecuteTime": {
     "end_time": "2019-10-19T10:13:20.757754Z",
     "start_time": "2019-10-19T10:13:20.746654Z"
    }
   },
   "outputs": [
    {
     "data": {
      "text/plain": [
       "array([[307,   8],\n",
       "       [ 20,  21]])"
      ]
     },
     "execution_count": 47,
     "metadata": {},
     "output_type": "execute_result"
    }
   ],
   "source": [
    "from sklearn.metrics import confusion_matrix, accuracy_score, f1_score, classification_report\n",
    "y_pred = model.predict(X_test)\n",
    "confusion_matrix(y_test, y_pred)"
   ]
  },
  {
   "cell_type": "code",
   "execution_count": 48,
   "metadata": {
    "ExecuteTime": {
     "end_time": "2019-10-19T10:13:20.770363Z",
     "start_time": "2019-10-19T10:13:20.761292Z"
    }
   },
   "outputs": [
    {
     "data": {
      "text/plain": [
       "0.6000000000000001"
      ]
     },
     "execution_count": 48,
     "metadata": {},
     "output_type": "execute_result"
    }
   ],
   "source": [
    "f1_score(y_test, y_pred)"
   ]
  },
  {
   "cell_type": "code",
   "execution_count": 50,
   "metadata": {
    "ExecuteTime": {
     "end_time": "2019-10-19T10:13:45.606329Z",
     "start_time": "2019-10-19T10:13:45.599132Z"
    }
   },
   "outputs": [
    {
     "name": "stdout",
     "output_type": "stream",
     "text": [
      "              precision    recall  f1-score   support\n",
      "\n",
      "           0       0.94      0.97      0.96       315\n",
      "           1       0.72      0.51      0.60        41\n",
      "\n",
      "    accuracy                           0.92       356\n",
      "   macro avg       0.83      0.74      0.78       356\n",
      "weighted avg       0.91      0.92      0.92       356\n",
      "\n"
     ]
    }
   ],
   "source": [
    "print(classification_report(y_test, y_pred))"
   ]
  },
  {
   "cell_type": "code",
   "execution_count": 51,
   "metadata": {
    "ExecuteTime": {
     "end_time": "2019-10-19T10:13:48.260112Z",
     "start_time": "2019-10-19T10:13:48.085181Z"
    }
   },
   "outputs": [
    {
     "data": {
      "image/png": "[encoded data removed]",
      "text/plain": [
       "<Figure size 576x432 with 1 Axes>"
      ]
     },
     "metadata": {
      "needs_background": "light"
     },
     "output_type": "display_data"
    }
   ],
   "source": [
    "from sklearn.metrics import roc_auc_score\n",
    "from sklearn.metrics import roc_curve\n",
    "logit_roc_auc = roc_auc_score(y_test, logreg.predict(X_test))\n",
    "fpr, tpr, thresholds = roc_curve(y_test, logreg.predict_proba(X_test)[:,1])\n",
    "plt.figure(figsize=(8,6))\n",
    "plt.plot(fpr, tpr, label='Logistic Regression (area = %0.2f)' % logit_roc_auc)\n",
    "plt.plot([0, 1], [0, 1],'r--')\n",
    "plt.xlim([0.0, 1.0])\n",
    "plt.ylim([0.0, 1.05])\n",
    "plt.xlabel('False Positive Rate')\n",
    "plt.ylabel('True Positive Rate')\n",
    "plt.title('Receiver operating characteristic')\n",
    "plt.legend(loc=\"lower right\")\n",
    "# plt.savefig('Log_ROC')\n",
    "plt.show()"
   ]
  },
  {
   "cell_type": "markdown",
   "metadata": {},
   "source": [
    "What are your thoughts on the performance of the model? Write your conclusions below."
   ]
  },
  {
   "cell_type": "markdown",
   "metadata": {},
   "source": [
    "* Global accuracy of 0.91 so proportion of correct predictions is overall good.\n",
    "* We can see that the model performs better in terms of precision (positive predictive value) and recall (sensitivity) for the benign websites than for malicious, which may be due to unbalanced data (most of the observations are good websites, not malicious).\n",
    "* F1-score not really close to 1, so model could perform better."
   ]
  },
  {
   "cell_type": "markdown",
   "metadata": {},
   "source": [
    "#### Our second algorithm is is K-Nearest Neighbors. \n",
    "\n",
    "Though is it not required, we will fit a model using the training data and then test the performance of the model using the testing data. Start by loading `KNeighborsClassifier` from scikit-learn and then initializing and fitting the model. We'll start off with a model where k=3."
   ]
  },
  {
   "cell_type": "code",
   "execution_count": 52,
   "metadata": {
    "ExecuteTime": {
     "end_time": "2019-10-19T10:13:53.770210Z",
     "start_time": "2019-10-19T10:13:53.757198Z"
    }
   },
   "outputs": [],
   "source": [
    "from sklearn.neighbors import KNeighborsClassifier\n",
    "\n",
    "knn = KNeighborsClassifier(n_neighbors=3)"
   ]
  },
  {
   "cell_type": "markdown",
   "metadata": {},
   "source": [
    "To test your model, compute the predicted values for the testing sample and print the confusion matrix as well as the accuracy score."
   ]
  },
  {
   "cell_type": "code",
   "execution_count": 53,
   "metadata": {
    "ExecuteTime": {
     "end_time": "2019-10-19T10:13:55.965739Z",
     "start_time": "2019-10-19T10:13:55.936948Z"
    }
   },
   "outputs": [],
   "source": [
    "model = knn.fit(X_train, y_train)\n",
    "y_pred = model.predict(X_test)"
   ]
  },
  {
   "cell_type": "code",
   "execution_count": 54,
   "metadata": {
    "ExecuteTime": {
     "end_time": "2019-10-19T10:13:57.516514Z",
     "start_time": "2019-10-19T10:13:57.512279Z"
    }
   },
   "outputs": [
    {
     "data": {
      "text/plain": [
       "array([[307,   8],\n",
       "       [ 15,  26]])"
      ]
     },
     "execution_count": 54,
     "metadata": {},
     "output_type": "execute_result"
    }
   ],
   "source": [
    "confusion_matrix(y_test, y_pred)"
   ]
  },
  {
   "cell_type": "code",
   "execution_count": 66,
   "metadata": {
    "ExecuteTime": {
     "end_time": "2019-10-19T10:21:55.606670Z",
     "start_time": "2019-10-19T10:21:55.600393Z"
    }
   },
   "outputs": [
    {
     "data": {
      "text/plain": [
       "0.6666666666666666"
      ]
     },
     "execution_count": 66,
     "metadata": {},
     "output_type": "execute_result"
    }
   ],
   "source": [
    "f1_score(y_test, y_pred)"
   ]
  },
  {
   "cell_type": "code",
   "execution_count": 57,
   "metadata": {
    "ExecuteTime": {
     "end_time": "2019-10-19T10:14:29.850702Z",
     "start_time": "2019-10-19T10:14:29.840470Z"
    }
   },
   "outputs": [
    {
     "name": "stdout",
     "output_type": "stream",
     "text": [
      "              precision    recall  f1-score   support\n",
      "\n",
      "           0       0.95      0.97      0.96       315\n",
      "           1       0.76      0.63      0.69        41\n",
      "\n",
      "    accuracy                           0.94       356\n",
      "   macro avg       0.86      0.80      0.83       356\n",
      "weighted avg       0.93      0.94      0.93       356\n",
      "\n"
     ]
    }
   ],
   "source": [
    "print(classification_report(y_test, y_pred))"
   ]
  },
  {
   "cell_type": "code",
   "execution_count": 58,
   "metadata": {
    "ExecuteTime": {
     "end_time": "2019-10-19T10:14:37.405032Z",
     "start_time": "2019-10-19T10:14:37.213969Z"
    }
   },
   "outputs": [
    {
     "data": {
      "image/png": "[encoded data removed]",
      "text/plain": [
       "<Figure size 576x432 with 1 Axes>"
      ]
     },
     "metadata": {
      "needs_background": "light"
     },
     "output_type": "display_data"
    }
   ],
   "source": [
    "knn_roc_auc = roc_auc_score(y_test, knn.predict(X_test))\n",
    "fpr, tpr, thresholds = roc_curve(y_test, knn.predict_proba(X_test)[:,1])\n",
    "plt.figure(figsize=(8,6))\n",
    "plt.plot(fpr, tpr, label='Logistic Regression (area = %0.2f)' % knn_roc_auc)\n",
    "plt.plot([0, 1], [0, 1],'r--')\n",
    "plt.xlim([0.0, 1.0])\n",
    "plt.ylim([0.0, 1.05])\n",
    "plt.xlabel('False Positive Rate')\n",
    "plt.ylabel('True Positive Rate')\n",
    "plt.title('Receiver operating characteristic')\n",
    "plt.legend(loc=\"lower right\")\n",
    "# plt.savefig('Log_ROC')\n",
    "plt.show()"
   ]
  },
  {
   "cell_type": "markdown",
   "metadata": {},
   "source": [
    "* Confusion matrix similar to logreg.\n",
    "* Global accuracy of 0.93 so proportion of correct predictions is overall good, an slightly better than logreg.\n",
    "* We can see that this model still performs better in terms of precision (positive predictive value) and recall (sensitivity) for the benign websites than for malicious, which may be due to unbalanced data (most of the observations are good websites, not malicious).\n",
    "* F1-score not really close to 1, slightly better than with logreg algorithm."
   ]
  },
  {
   "cell_type": "markdown",
   "metadata": {},
   "source": [
    "#### We'll create another K-Nearest Neighbors model with k=5. \n",
    "\n",
    "Initialize and fit the model below and print the confusion matrix and the accuracy score."
   ]
  },
  {
   "cell_type": "code",
   "execution_count": 67,
   "metadata": {
    "ExecuteTime": {
     "end_time": "2019-10-19T10:25:16.358622Z",
     "start_time": "2019-10-19T10:25:16.331736Z"
    }
   },
   "outputs": [],
   "source": [
    "knn = KNeighborsClassifier(n_neighbors=5)\n",
    "model = knn.fit(X_train, y_train)\n",
    "y_pred = model.predict(X_test)"
   ]
  },
  {
   "cell_type": "code",
   "execution_count": 68,
   "metadata": {
    "ExecuteTime": {
     "end_time": "2019-10-19T10:25:17.955363Z",
     "start_time": "2019-10-19T10:25:17.951123Z"
    }
   },
   "outputs": [
    {
     "data": {
      "text/plain": [
       "array([[306,   9],\n",
       "       [ 16,  25]])"
      ]
     },
     "execution_count": 68,
     "metadata": {},
     "output_type": "execute_result"
    }
   ],
   "source": [
    "confusion_matrix(y_test, y_pred)"
   ]
  },
  {
   "cell_type": "code",
   "execution_count": 69,
   "metadata": {
    "ExecuteTime": {
     "end_time": "2019-10-19T10:25:20.189215Z",
     "start_time": "2019-10-19T10:25:20.182040Z"
    }
   },
   "outputs": [
    {
     "data": {
      "text/plain": [
       "0.9297752808988764"
      ]
     },
     "execution_count": 69,
     "metadata": {},
     "output_type": "execute_result"
    }
   ],
   "source": [
    "accuracy_score(y_test, y_pred)"
   ]
  },
  {
   "cell_type": "code",
   "execution_count": 70,
   "metadata": {
    "ExecuteTime": {
     "end_time": "2019-10-19T10:25:26.235493Z",
     "start_time": "2019-10-19T10:25:26.227431Z"
    }
   },
   "outputs": [
    {
     "name": "stdout",
     "output_type": "stream",
     "text": [
      "              precision    recall  f1-score   support\n",
      "\n",
      "           0       0.95      0.97      0.96       315\n",
      "           1       0.74      0.61      0.67        41\n",
      "\n",
      "    accuracy                           0.93       356\n",
      "   macro avg       0.84      0.79      0.81       356\n",
      "weighted avg       0.93      0.93      0.93       356\n",
      "\n"
     ]
    }
   ],
   "source": [
    "print(classification_report(y_test, y_pred))"
   ]
  },
  {
   "cell_type": "code",
   "execution_count": 63,
   "metadata": {
    "ExecuteTime": {
     "end_time": "2019-10-19T10:14:53.132084Z",
     "start_time": "2019-10-19T10:14:52.937698Z"
    }
   },
   "outputs": [
    {
     "data": {
      "image/png": "[encoded data removed]",
      "text/plain": [
       "<Figure size 576x432 with 1 Axes>"
      ]
     },
     "metadata": {
      "needs_background": "light"
     },
     "output_type": "display_data"
    }
   ],
   "source": [
    "knn_roc_auc = roc_auc_score(y_test, knn.predict(X_test))\n",
    "fpr, tpr, thresholds = roc_curve(y_test, knn.predict_proba(X_test)[:,1])\n",
    "plt.figure(figsize=(8,6))\n",
    "plt.plot(fpr, tpr, label='Logistic Regression (area = %0.2f)' % knn_roc_auc)\n",
    "plt.plot([0, 1], [0, 1],'r--')\n",
    "plt.xlim([0.0, 1.0])\n",
    "plt.ylim([0.0, 1.05])\n",
    "plt.xlabel('False Positive Rate')\n",
    "plt.ylabel('True Positive Rate')\n",
    "plt.title('Receiver operating characteristic')\n",
    "plt.legend(loc=\"lower right\")\n",
    "# plt.savefig('Log_ROC')\n",
    "plt.show()"
   ]
  },
  {
   "cell_type": "markdown",
   "metadata": {},
   "source": [
    "Did you see an improvement in the confusion matrix when increasing k to 5? Did you see an improvement in the accuracy score? Write your conclusions below."
   ]
  },
  {
   "cell_type": "markdown",
   "metadata": {
    "ExecuteTime": {
     "end_time": "2019-10-19T10:14:55.982819Z",
     "start_time": "2019-10-19T10:14:55.980479Z"
    }
   },
   "source": [
    "* Global accuracy of 0.93 hasn't changed significantly.\n",
    "* Precision (positive predictive value) and recall (sensitivity) for the malignant websites have gone down, so it hasn't really been useful to change the k parameter.\n",
    "* F1-score also worse for 1 (malignant)."
   ]
  },
  {
   "cell_type": "markdown",
   "metadata": {},
   "source": [
    "# Bonus Challenge - Feature Scaling\n",
    "\n",
    "Problem-solving in machine learning is iterative. You can improve your model prediction with various techniques (there is a sweetspot for the time you spend and the improvement you receive though). Now you've completed only one iteration of ML analysis. There are more iterations you can conduct to make improvements. In order to be able to do that, you will need deeper knowledge in statistics and master more data analysis techniques. In this bootcamp, we don't have time to achieve that advanced goal. But you will make constant efforts after the bootcamp to eventually get there.\n",
    "\n",
    "However, now we do want you to learn one of the advanced techniques which is called *feature scaling*. The idea of feature scaling is to standardize/normalize the range of independent variables or features of the data. This can make the outliers more apparent so that you can remove them. This step needs to happen during Challenge 6 after you split the training and test data because you don't want to split the data again which makes it impossible to compare your results with and without feature scaling. For general concepts about feature scaling, click [here](https://en.wikipedia.org/wiki/Feature_scaling). To read deeper, click [here](https://medium.com/greyatom/why-how-and-when-to-scale-your-features-4b30ab09db5e).\n",
    "\n",
    "In the next cell, attempt to improve your model prediction accuracy by means of feature scaling. A library you can utilize is `sklearn.preprocessing.RobustScaler` ([documentation](https://scikit-learn.org/stable/modules/generated/sklearn.preprocessing.RobustScaler.html)). You'll use the `RobustScaler` to fit and transform your `X_train`, then transform `X_test`. You will use logistic regression to fit and predict your transformed data and obtain the accuracy score in the same way. Compare the accuracy score with your normalized data with the previous accuracy data. Is there an improvement?"
   ]
  },
  {
   "cell_type": "code",
   "execution_count": 71,
   "metadata": {
    "ExecuteTime": {
     "end_time": "2019-10-19T10:27:45.945242Z",
     "start_time": "2019-10-19T10:27:45.941701Z"
    }
   },
   "outputs": [],
   "source": [
    "# Your code here"
   ]
  }
 ],
 "metadata": {
  "hide_input": false,
  "kernelspec": {
   "display_name": "Python 3",
   "language": "python",
   "name": "python3"
  },
  "language_info": {
   "codemirror_mode": {
    "name": "ipython",
    "version": 3
   },
   "file_extension": ".py",
   "mimetype": "text/x-python",
   "name": "python",
   "nbconvert_exporter": "python",
   "pygments_lexer": "ipython3",
   "version": "3.6.8"
  },
  "toc": {
   "base_numbering": 1,
   "nav_menu": {},
   "number_sections": true,
   "sideBar": true,
   "skip_h1_title": false,
   "title_cell": "Table of Contents",
   "title_sidebar": "Contents",
   "toc_cell": false,
   "toc_position": {},
   "toc_section_display": true,
   "toc_window_display": false
  },
  "varInspector": {
   "cols": {
    "lenName": 16,
    "lenType": 16,
    "lenVar": 40
   },
   "kernels_config": {
    "python": {
     "delete_cmd_postfix": "",
     "delete_cmd_prefix": "del ",
     "library": "var_list.py",
     "varRefreshCmd": "print(var_dic_list())"
    },
    "r": {
     "delete_cmd_postfix": ") ",
     "delete_cmd_prefix": "rm(",
     "library": "var_list.r",
     "varRefreshCmd": "cat(var_dic_list()) "
    }
   },
   "types_to_exclude": [
    "module",
    "function",
    "builtin_function_or_method",
    "instance",
    "_Feature"
   ],
   "window_display": false
  }
 },
 "nbformat": 4,
 "nbformat_minor": 2
}
